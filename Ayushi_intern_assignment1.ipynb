{
  "nbformat": 4,
  "nbformat_minor": 0,
  "metadata": {
    "colab": {
      "name": "Ayushi_intern_assignment1",
      "provenance": [],
      "collapsed_sections": [],
      "toc_visible": true
    },
    "kernelspec": {
      "name": "python3",
      "display_name": "Python 3"
    }
  },
  "cells": [
    {
      "cell_type": "markdown",
      "metadata": {
        "id": "uMim9Fb78q8U",
        "colab_type": "text"
      },
      "source": [
        "## Importing libraries"
      ]
    },
    {
      "cell_type": "code",
      "metadata": {
        "id": "W_7RW3pu6rr6",
        "colab_type": "code",
        "colab": {}
      },
      "source": [
        "import pandas as pd\n",
        "import numpy as np\n",
        "df_csv = pd.read_csv(\"/content/brand_details.csv\")"
      ],
      "execution_count": 0,
      "outputs": []
    },
    {
      "cell_type": "code",
      "metadata": {
        "id": "Q0pt0X9Z84mX",
        "colab_type": "code",
        "outputId": "205d40d0-b184-48ec-c0fa-752e65a9306c",
        "colab": {
          "base_uri": "https://localhost:8080/",
          "height": 68
        }
      },
      "source": [
        "print(df_csv.columns)\n"
      ],
      "execution_count": 7,
      "outputs": [
        {
          "output_type": "stream",
          "text": [
            "Index(['Rank', 'Brand', 'Brand_Value', 'Change_LastYr', 'Brand_Revenue',\n",
            "       'Company_Advertising', 'Industry'],\n",
            "      dtype='object')\n"
          ],
          "name": "stdout"
        }
      ]
    },
    {
      "cell_type": "code",
      "metadata": {
        "id": "5aj63AxSIqEZ",
        "colab_type": "code",
        "outputId": "8d83a878-ab09-48be-e1cb-768ff908bb98",
        "colab": {
          "base_uri": "https://localhost:8080/",
          "height": 204
        }
      },
      "source": [
        "df_csv.head()"
      ],
      "execution_count": 8,
      "outputs": [
        {
          "output_type": "execute_result",
          "data": {
            "text/html": [
              "<div>\n",
              "<style scoped>\n",
              "    .dataframe tbody tr th:only-of-type {\n",
              "        vertical-align: middle;\n",
              "    }\n",
              "\n",
              "    .dataframe tbody tr th {\n",
              "        vertical-align: top;\n",
              "    }\n",
              "\n",
              "    .dataframe thead th {\n",
              "        text-align: right;\n",
              "    }\n",
              "</style>\n",
              "<table border=\"1\" class=\"dataframe\">\n",
              "  <thead>\n",
              "    <tr style=\"text-align: right;\">\n",
              "      <th></th>\n",
              "      <th>Rank</th>\n",
              "      <th>Brand</th>\n",
              "      <th>Brand_Value</th>\n",
              "      <th>Change_LastYr</th>\n",
              "      <th>Brand_Revenue</th>\n",
              "      <th>Company_Advertising</th>\n",
              "      <th>Industry</th>\n",
              "    </tr>\n",
              "  </thead>\n",
              "  <tbody>\n",
              "    <tr>\n",
              "      <th>0</th>\n",
              "      <td>1</td>\n",
              "      <td>Apple</td>\n",
              "      <td>145.3</td>\n",
              "      <td>17</td>\n",
              "      <td>182.3</td>\n",
              "      <td>1.2</td>\n",
              "      <td>Technology</td>\n",
              "    </tr>\n",
              "    <tr>\n",
              "      <th>1</th>\n",
              "      <td>2</td>\n",
              "      <td>Microsoft</td>\n",
              "      <td>69.3</td>\n",
              "      <td>10</td>\n",
              "      <td>93.3</td>\n",
              "      <td>2.3</td>\n",
              "      <td>Technology</td>\n",
              "    </tr>\n",
              "    <tr>\n",
              "      <th>2</th>\n",
              "      <td>3</td>\n",
              "      <td>Google</td>\n",
              "      <td>65.6</td>\n",
              "      <td>16</td>\n",
              "      <td>61.8</td>\n",
              "      <td>3.0</td>\n",
              "      <td>Technology</td>\n",
              "    </tr>\n",
              "    <tr>\n",
              "      <th>3</th>\n",
              "      <td>4</td>\n",
              "      <td>Coca-Cola</td>\n",
              "      <td>56.0</td>\n",
              "      <td>0</td>\n",
              "      <td>23.1</td>\n",
              "      <td>3.5</td>\n",
              "      <td>Beverages</td>\n",
              "    </tr>\n",
              "    <tr>\n",
              "      <th>4</th>\n",
              "      <td>5</td>\n",
              "      <td>IBM</td>\n",
              "      <td>49.8</td>\n",
              "      <td>4</td>\n",
              "      <td>92.8</td>\n",
              "      <td>1.3</td>\n",
              "      <td>Technology</td>\n",
              "    </tr>\n",
              "  </tbody>\n",
              "</table>\n",
              "</div>"
            ],
            "text/plain": [
              "   Rank      Brand  Brand_Value  ...  Brand_Revenue  Company_Advertising    Industry\n",
              "0     1      Apple        145.3  ...          182.3                  1.2  Technology\n",
              "1     2  Microsoft         69.3  ...           93.3                  2.3  Technology\n",
              "2     3     Google         65.6  ...           61.8                  3.0  Technology\n",
              "3     4  Coca-Cola         56.0  ...           23.1                  3.5   Beverages\n",
              "4     5        IBM         49.8  ...           92.8                  1.3  Technology\n",
              "\n",
              "[5 rows x 7 columns]"
            ]
          },
          "metadata": {
            "tags": []
          },
          "execution_count": 8
        }
      ]
    },
    {
      "cell_type": "markdown",
      "metadata": {
        "id": "BcveHaJMVLJA",
        "colab_type": "text"
      },
      "source": [
        "#Problem 1 - Which industry has the maximum brands whose Brand_Revenue > 80 Million (Brand revenue is in millions)"
      ]
    },
    {
      "cell_type": "code",
      "metadata": {
        "id": "aBwUx5g8ZE7k",
        "colab_type": "code",
        "colab": {
          "base_uri": "https://localhost:8080/",
          "height": 51
        },
        "outputId": "043a5fb8-13d2-412e-e869-bd3618840da8"
      },
      "source": [
        "df_csv.loc[(df_csv.groupby(['Industry'])['Brand'].count().max())][['Industry']]"
      ],
      "execution_count": 56,
      "outputs": [
        {
          "output_type": "execute_result",
          "data": {
            "text/plain": [
              "Industry    Technology\n",
              "Name: 13, dtype: object"
            ]
          },
          "metadata": {
            "tags": []
          },
          "execution_count": 56
        }
      ]
    },
    {
      "cell_type": "markdown",
      "metadata": {
        "id": "tVKyxgn7C5Y2",
        "colab_type": "text"
      },
      "source": [
        "Since the technology has maximum number of brands so i have inferred from above code that that Industry technology has maximum no of Brand so that Brand_Revenue>80 of technology is defined by below code.\n",
        "\n",
        "\n",
        "\n",
        "\n"
      ]
    },
    {
      "cell_type": "code",
      "metadata": {
        "id": "L3rgPOySPYZR",
        "colab_type": "code",
        "colab": {
          "base_uri": "https://localhost:8080/",
          "height": 235
        },
        "outputId": "710d8890-4940-470a-e98c-6a56167f8bf3"
      },
      "source": [
        "df_csv.loc[(df_csv.Industry=='Technology') & (df_csv.Brand_Revenue>80)][['Industry','Brand','Brand_Revenue']]"
      ],
      "execution_count": 55,
      "outputs": [
        {
          "output_type": "execute_result",
          "data": {
            "text/html": [
              "<div>\n",
              "<style scoped>\n",
              "    .dataframe tbody tr th:only-of-type {\n",
              "        vertical-align: middle;\n",
              "    }\n",
              "\n",
              "    .dataframe tbody tr th {\n",
              "        vertical-align: top;\n",
              "    }\n",
              "\n",
              "    .dataframe thead th {\n",
              "        text-align: right;\n",
              "    }\n",
              "</style>\n",
              "<table border=\"1\" class=\"dataframe\">\n",
              "  <thead>\n",
              "    <tr style=\"text-align: right;\">\n",
              "      <th></th>\n",
              "      <th>Industry</th>\n",
              "      <th>Brand</th>\n",
              "      <th>Brand_Revenue</th>\n",
              "    </tr>\n",
              "  </thead>\n",
              "  <tbody>\n",
              "    <tr>\n",
              "      <th>0</th>\n",
              "      <td>Technology</td>\n",
              "      <td>Apple</td>\n",
              "      <td>182.3</td>\n",
              "    </tr>\n",
              "    <tr>\n",
              "      <th>1</th>\n",
              "      <td>Technology</td>\n",
              "      <td>Microsoft</td>\n",
              "      <td>93.3</td>\n",
              "    </tr>\n",
              "    <tr>\n",
              "      <th>4</th>\n",
              "      <td>Technology</td>\n",
              "      <td>IBM</td>\n",
              "      <td>92.8</td>\n",
              "    </tr>\n",
              "    <tr>\n",
              "      <th>6</th>\n",
              "      <td>Technology</td>\n",
              "      <td>Samsung</td>\n",
              "      <td>187.8</td>\n",
              "    </tr>\n",
              "    <tr>\n",
              "      <th>11</th>\n",
              "      <td>Technology</td>\n",
              "      <td>Amazon</td>\n",
              "      <td>87.5</td>\n",
              "    </tr>\n",
              "    <tr>\n",
              "      <th>25</th>\n",
              "      <td>Technology</td>\n",
              "      <td>Hewlett-Packard</td>\n",
              "      <td>111.5</td>\n",
              "    </tr>\n",
              "  </tbody>\n",
              "</table>\n",
              "</div>"
            ],
            "text/plain": [
              "      Industry            Brand  Brand_Revenue\n",
              "0   Technology            Apple          182.3\n",
              "1   Technology        Microsoft           93.3\n",
              "4   Technology              IBM           92.8\n",
              "6   Technology          Samsung          187.8\n",
              "11  Technology           Amazon           87.5\n",
              "25  Technology  Hewlett-Packard          111.5"
            ]
          },
          "metadata": {
            "tags": []
          },
          "execution_count": 55
        }
      ]
    },
    {
      "cell_type": "markdown",
      "metadata": {
        "id": "AMUBD2a2dKEp",
        "colab_type": "text"
      },
      "source": [
        "# Problem 2 - List the companies whose Company_Advertising budget is < 3 but Brand_Value is > 20"
      ]
    },
    {
      "cell_type": "code",
      "metadata": {
        "id": "gxZf8_v9dOXP",
        "colab_type": "code",
        "colab": {
          "base_uri": "https://localhost:8080/",
          "height": 421
        },
        "outputId": "36ac3c50-01f5-42b3-881c-c0bf7e4e728e"
      },
      "source": [
        "df_csv.loc[(df_csv[\"Company_Advertising\"]<3) & (df_csv['Brand_Value']>20)][['Industry','Brand','Brand_Value','Company_Advertising']]"
      ],
      "execution_count": 21,
      "outputs": [
        {
          "output_type": "execute_result",
          "data": {
            "text/html": [
              "<div>\n",
              "<style scoped>\n",
              "    .dataframe tbody tr th:only-of-type {\n",
              "        vertical-align: middle;\n",
              "    }\n",
              "\n",
              "    .dataframe tbody tr th {\n",
              "        vertical-align: top;\n",
              "    }\n",
              "\n",
              "    .dataframe thead th {\n",
              "        text-align: right;\n",
              "    }\n",
              "</style>\n",
              "<table border=\"1\" class=\"dataframe\">\n",
              "  <thead>\n",
              "    <tr style=\"text-align: right;\">\n",
              "      <th></th>\n",
              "      <th>Industry</th>\n",
              "      <th>Brand</th>\n",
              "      <th>Brand_Value</th>\n",
              "      <th>Company_Advertising</th>\n",
              "    </tr>\n",
              "  </thead>\n",
              "  <tbody>\n",
              "    <tr>\n",
              "      <th>0</th>\n",
              "      <td>Technology</td>\n",
              "      <td>Apple</td>\n",
              "      <td>145.3</td>\n",
              "      <td>1.200</td>\n",
              "    </tr>\n",
              "    <tr>\n",
              "      <th>1</th>\n",
              "      <td>Technology</td>\n",
              "      <td>Microsoft</td>\n",
              "      <td>69.3</td>\n",
              "      <td>2.300</td>\n",
              "    </tr>\n",
              "    <tr>\n",
              "      <th>4</th>\n",
              "      <td>Technology</td>\n",
              "      <td>IBM</td>\n",
              "      <td>49.8</td>\n",
              "      <td>1.300</td>\n",
              "    </tr>\n",
              "    <tr>\n",
              "      <th>5</th>\n",
              "      <td>Restaurants</td>\n",
              "      <td>McDonalds</td>\n",
              "      <td>39.5</td>\n",
              "      <td>0.808</td>\n",
              "    </tr>\n",
              "    <tr>\n",
              "      <th>8</th>\n",
              "      <td>Technology</td>\n",
              "      <td>Facebook</td>\n",
              "      <td>36.5</td>\n",
              "      <td>0.135</td>\n",
              "    </tr>\n",
              "    <tr>\n",
              "      <th>9</th>\n",
              "      <td>Leisure</td>\n",
              "      <td>Disney</td>\n",
              "      <td>34.6</td>\n",
              "      <td>2.800</td>\n",
              "    </tr>\n",
              "    <tr>\n",
              "      <th>13</th>\n",
              "      <td>Technology</td>\n",
              "      <td>Cisco</td>\n",
              "      <td>27.6</td>\n",
              "      <td>0.196</td>\n",
              "    </tr>\n",
              "    <tr>\n",
              "      <th>14</th>\n",
              "      <td>Technology</td>\n",
              "      <td>Oracle</td>\n",
              "      <td>26.8</td>\n",
              "      <td>0.079</td>\n",
              "    </tr>\n",
              "    <tr>\n",
              "      <th>16</th>\n",
              "      <td>Technology</td>\n",
              "      <td>Intel</td>\n",
              "      <td>25.8</td>\n",
              "      <td>1.800</td>\n",
              "    </tr>\n",
              "    <tr>\n",
              "      <th>17</th>\n",
              "      <td>Retail</td>\n",
              "      <td>Wal-Mart</td>\n",
              "      <td>24.7</td>\n",
              "      <td>2.400</td>\n",
              "    </tr>\n",
              "    <tr>\n",
              "      <th>18</th>\n",
              "      <td>Telecom</td>\n",
              "      <td>Verizon</td>\n",
              "      <td>24.5</td>\n",
              "      <td>2.500</td>\n",
              "    </tr>\n",
              "    <tr>\n",
              "      <th>20</th>\n",
              "      <td>Automotive</td>\n",
              "      <td>Honda</td>\n",
              "      <td>22.6</td>\n",
              "      <td>2.700</td>\n",
              "    </tr>\n",
              "  </tbody>\n",
              "</table>\n",
              "</div>"
            ],
            "text/plain": [
              "       Industry      Brand  Brand_Value  Company_Advertising\n",
              "0    Technology      Apple        145.3                1.200\n",
              "1    Technology  Microsoft         69.3                2.300\n",
              "4    Technology        IBM         49.8                1.300\n",
              "5   Restaurants  McDonalds         39.5                0.808\n",
              "8    Technology   Facebook         36.5                0.135\n",
              "9       Leisure     Disney         34.6                2.800\n",
              "13   Technology      Cisco         27.6                0.196\n",
              "14   Technology     Oracle         26.8                0.079\n",
              "16   Technology      Intel         25.8                1.800\n",
              "17       Retail   Wal-Mart         24.7                2.400\n",
              "18      Telecom    Verizon         24.5                2.500\n",
              "20   Automotive      Honda         22.6                2.700"
            ]
          },
          "metadata": {
            "tags": []
          },
          "execution_count": 21
        }
      ]
    },
    {
      "cell_type": "markdown",
      "metadata": {
        "id": "BXpxQnkiqOoX",
        "colab_type": "text"
      },
      "source": [
        "#Problem 3 - Find out the top 5 Technology Brand that showed maximum positive jump in their position (Use Change_LastYr)"
      ]
    },
    {
      "cell_type": "code",
      "metadata": {
        "id": "gDOLqul1qmqe",
        "colab_type": "code",
        "colab": {
          "base_uri": "https://localhost:8080/",
          "height": 359
        },
        "outputId": "c9c09e74-d5f5-491c-8d75-7315c930924f"
      },
      "source": [
        "df_csv.head(10)"
      ],
      "execution_count": 36,
      "outputs": [
        {
          "output_type": "execute_result",
          "data": {
            "text/html": [
              "<div>\n",
              "<style scoped>\n",
              "    .dataframe tbody tr th:only-of-type {\n",
              "        vertical-align: middle;\n",
              "    }\n",
              "\n",
              "    .dataframe tbody tr th {\n",
              "        vertical-align: top;\n",
              "    }\n",
              "\n",
              "    .dataframe thead th {\n",
              "        text-align: right;\n",
              "    }\n",
              "</style>\n",
              "<table border=\"1\" class=\"dataframe\">\n",
              "  <thead>\n",
              "    <tr style=\"text-align: right;\">\n",
              "      <th></th>\n",
              "      <th>Rank</th>\n",
              "      <th>Brand</th>\n",
              "      <th>Brand_Value</th>\n",
              "      <th>Change_LastYr</th>\n",
              "      <th>Brand_Revenue</th>\n",
              "      <th>Company_Advertising</th>\n",
              "      <th>Industry</th>\n",
              "    </tr>\n",
              "  </thead>\n",
              "  <tbody>\n",
              "    <tr>\n",
              "      <th>0</th>\n",
              "      <td>1</td>\n",
              "      <td>Apple</td>\n",
              "      <td>145.3</td>\n",
              "      <td>17</td>\n",
              "      <td>182.3</td>\n",
              "      <td>1.200</td>\n",
              "      <td>Technology</td>\n",
              "    </tr>\n",
              "    <tr>\n",
              "      <th>1</th>\n",
              "      <td>2</td>\n",
              "      <td>Microsoft</td>\n",
              "      <td>69.3</td>\n",
              "      <td>10</td>\n",
              "      <td>93.3</td>\n",
              "      <td>2.300</td>\n",
              "      <td>Technology</td>\n",
              "    </tr>\n",
              "    <tr>\n",
              "      <th>2</th>\n",
              "      <td>3</td>\n",
              "      <td>Google</td>\n",
              "      <td>65.6</td>\n",
              "      <td>16</td>\n",
              "      <td>61.8</td>\n",
              "      <td>3.000</td>\n",
              "      <td>Technology</td>\n",
              "    </tr>\n",
              "    <tr>\n",
              "      <th>3</th>\n",
              "      <td>4</td>\n",
              "      <td>Coca-Cola</td>\n",
              "      <td>56.0</td>\n",
              "      <td>0</td>\n",
              "      <td>23.1</td>\n",
              "      <td>3.500</td>\n",
              "      <td>Beverages</td>\n",
              "    </tr>\n",
              "    <tr>\n",
              "      <th>4</th>\n",
              "      <td>5</td>\n",
              "      <td>IBM</td>\n",
              "      <td>49.8</td>\n",
              "      <td>4</td>\n",
              "      <td>92.8</td>\n",
              "      <td>1.300</td>\n",
              "      <td>Technology</td>\n",
              "    </tr>\n",
              "    <tr>\n",
              "      <th>5</th>\n",
              "      <td>6</td>\n",
              "      <td>McDonalds</td>\n",
              "      <td>39.5</td>\n",
              "      <td>-1</td>\n",
              "      <td>87.8</td>\n",
              "      <td>0.808</td>\n",
              "      <td>Restaurants</td>\n",
              "    </tr>\n",
              "    <tr>\n",
              "      <th>6</th>\n",
              "      <td>7</td>\n",
              "      <td>Samsung</td>\n",
              "      <td>37.9</td>\n",
              "      <td>8</td>\n",
              "      <td>187.8</td>\n",
              "      <td>3.800</td>\n",
              "      <td>Technology</td>\n",
              "    </tr>\n",
              "    <tr>\n",
              "      <th>7</th>\n",
              "      <td>8</td>\n",
              "      <td>Toyota</td>\n",
              "      <td>37.8</td>\n",
              "      <td>21</td>\n",
              "      <td>171.1</td>\n",
              "      <td>3.800</td>\n",
              "      <td>Automotive</td>\n",
              "    </tr>\n",
              "    <tr>\n",
              "      <th>8</th>\n",
              "      <td>10</td>\n",
              "      <td>Facebook</td>\n",
              "      <td>36.5</td>\n",
              "      <td>54</td>\n",
              "      <td>12.1</td>\n",
              "      <td>0.135</td>\n",
              "      <td>Technology</td>\n",
              "    </tr>\n",
              "    <tr>\n",
              "      <th>9</th>\n",
              "      <td>11</td>\n",
              "      <td>Disney</td>\n",
              "      <td>34.6</td>\n",
              "      <td>26</td>\n",
              "      <td>26.4</td>\n",
              "      <td>2.800</td>\n",
              "      <td>Leisure</td>\n",
              "    </tr>\n",
              "  </tbody>\n",
              "</table>\n",
              "</div>"
            ],
            "text/plain": [
              "   Rank      Brand  ...  Company_Advertising     Industry\n",
              "0     1      Apple  ...                1.200   Technology\n",
              "1     2  Microsoft  ...                2.300   Technology\n",
              "2     3     Google  ...                3.000   Technology\n",
              "3     4  Coca-Cola  ...                3.500    Beverages\n",
              "4     5        IBM  ...                1.300   Technology\n",
              "5     6  McDonalds  ...                0.808  Restaurants\n",
              "6     7    Samsung  ...                3.800   Technology\n",
              "7     8     Toyota  ...                3.800   Automotive\n",
              "8    10   Facebook  ...                0.135   Technology\n",
              "9    11     Disney  ...                2.800      Leisure\n",
              "\n",
              "[10 rows x 7 columns]"
            ]
          },
          "metadata": {
            "tags": []
          },
          "execution_count": 36
        }
      ]
    },
    {
      "cell_type": "code",
      "metadata": {
        "id": "q3RbOTyZrrzh",
        "colab_type": "code",
        "colab": {
          "base_uri": "https://localhost:8080/",
          "height": 204
        },
        "outputId": "2b99f555-1439-477e-e51f-19e819b770b3"
      },
      "source": [
        "s=df_csv[(df_csv['Industry']=='Technology')]\n",
        "s.nlargest(5,['Change_LastYr'])[['Change_LastYr','Industry']]"
      ],
      "execution_count": 48,
      "outputs": [
        {
          "output_type": "execute_result",
          "data": {
            "text/html": [
              "<div>\n",
              "<style scoped>\n",
              "    .dataframe tbody tr th:only-of-type {\n",
              "        vertical-align: middle;\n",
              "    }\n",
              "\n",
              "    .dataframe tbody tr th {\n",
              "        vertical-align: top;\n",
              "    }\n",
              "\n",
              "    .dataframe thead th {\n",
              "        text-align: right;\n",
              "    }\n",
              "</style>\n",
              "<table border=\"1\" class=\"dataframe\">\n",
              "  <thead>\n",
              "    <tr style=\"text-align: right;\">\n",
              "      <th></th>\n",
              "      <th>Change_LastYr</th>\n",
              "      <th>Industry</th>\n",
              "    </tr>\n",
              "  </thead>\n",
              "  <tbody>\n",
              "    <tr>\n",
              "      <th>8</th>\n",
              "      <td>54</td>\n",
              "      <td>Technology</td>\n",
              "    </tr>\n",
              "    <tr>\n",
              "      <th>11</th>\n",
              "      <td>32</td>\n",
              "      <td>Technology</td>\n",
              "    </tr>\n",
              "    <tr>\n",
              "      <th>33</th>\n",
              "      <td>21</td>\n",
              "      <td>Technology</td>\n",
              "    </tr>\n",
              "    <tr>\n",
              "      <th>50</th>\n",
              "      <td>21</td>\n",
              "      <td>Technology</td>\n",
              "    </tr>\n",
              "    <tr>\n",
              "      <th>0</th>\n",
              "      <td>17</td>\n",
              "      <td>Technology</td>\n",
              "    </tr>\n",
              "  </tbody>\n",
              "</table>\n",
              "</div>"
            ],
            "text/plain": [
              "    Change_LastYr    Industry\n",
              "8              54  Technology\n",
              "11             32  Technology\n",
              "33             21  Technology\n",
              "50             21  Technology\n",
              "0              17  Technology"
            ]
          },
          "metadata": {
            "tags": []
          },
          "execution_count": 48
        }
      ]
    },
    {
      "cell_type": "markdown",
      "metadata": {
        "id": "iI6D6lG2zV0Z",
        "colab_type": "text"
      },
      "source": [
        "# Problem 4 - Find out the Average Brand_Revenue by Industry"
      ]
    },
    {
      "cell_type": "code",
      "metadata": {
        "id": "Dleh0TYCzdG1",
        "colab_type": "code",
        "colab": {
          "base_uri": "https://localhost:8080/",
          "height": 306
        },
        "outputId": "b60f8745-525b-43b3-cb6b-3d0323b114f9"
      },
      "source": [
        "df_csv.groupby(['Industry'])['Brand_Revenue'].mean()"
      ],
      "execution_count": 45,
      "outputs": [
        {
          "output_type": "execute_result",
          "data": {
            "text/plain": [
              "Industry\n",
              "Apparel                     17.700000\n",
              "Automotive                  97.385714\n",
              "Beverages                   13.133333\n",
              "Business Services           32.800000\n",
              "Consumer Packaged Goods      7.175000\n",
              "Financial Services          51.622222\n",
              "Heavy Equipment             36.100000\n",
              "Leisure                     26.400000\n",
              "Luxury                       5.900000\n",
              "Media                        9.200000\n",
              "Restaurants                 51.900000\n",
              "Retail                     156.266667\n",
              "Technology                  80.238462\n",
              "Telecom                    129.750000\n",
              "Transportation              47.200000\n",
              "Name: Brand_Revenue, dtype: float64"
            ]
          },
          "metadata": {
            "tags": []
          },
          "execution_count": 45
        }
      ]
    },
    {
      "cell_type": "code",
      "metadata": {
        "id": "8GOUBahUtYx1",
        "colab_type": "code",
        "colab": {}
      },
      "source": [
        ""
      ],
      "execution_count": 0,
      "outputs": []
    }
  ]
}