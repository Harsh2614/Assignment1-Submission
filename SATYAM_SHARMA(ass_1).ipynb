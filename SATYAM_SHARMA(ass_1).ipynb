{
  "nbformat": 4,
  "nbformat_minor": 0,
  "metadata": {
    "colab": {
      "name": "SATYAM SHARMA(ass 1).ipynb",
      "provenance": [],
      "private_outputs": true,
      "collapsed_sections": []
    },
    "kernelspec": {
      "name": "python3",
      "display_name": "Python 3"
    },
    "accelerator": "GPU"
  },
  "cells": [
    {
      "cell_type": "code",
      "metadata": {
        "id": "X53jpaTGktfT",
        "colab_type": "code",
        "colab": {}
      },
      "source": [
        "import pandas as pd\n",
        "import numpy as np"
      ],
      "execution_count": 0,
      "outputs": []
    },
    {
      "cell_type": "code",
      "metadata": {
        "id": "QrDr7Q4Fl03r",
        "colab_type": "code",
        "colab": {}
      },
      "source": [
        "df = pd.read_csv('brand_details.csv')"
      ],
      "execution_count": 0,
      "outputs": []
    },
    {
      "cell_type": "code",
      "metadata": {
        "id": "VRUD2RCOl-XC",
        "colab_type": "code",
        "colab": {}
      },
      "source": [
        "df.head()"
      ],
      "execution_count": 0,
      "outputs": []
    },
    {
      "cell_type": "code",
      "metadata": {
        "id": "MfhhOVbcmDE9",
        "colab_type": "code",
        "colab": {}
      },
      "source": [
        "df.shape"
      ],
      "execution_count": 0,
      "outputs": []
    },
    {
      "cell_type": "code",
      "metadata": {
        "id": "MWTLKHXqpg1v",
        "colab_type": "code",
        "colab": {}
      },
      "source": [
        "print('60' + '*' + '7 or total elements in dataset are '+str(df.size))"
      ],
      "execution_count": 0,
      "outputs": []
    },
    {
      "cell_type": "code",
      "metadata": {
        "id": "4-1qrgadp8o1",
        "colab_type": "code",
        "colab": {}
      },
      "source": [
        "#Problem 1 - Which industry has the maximum brands whose Brand_Revenue > 80 Million (Brand revenue is in millions)\n",
        "s =df[df['Brand_Revenue']>80][['Industry','Brand_Revenue']]\n",
        "d =s['Industry'].value_counts()\n",
        "print('Company having maximum brands are listed as ascending order as follows(under the given condition):')\n",
        "d"
      ],
      "execution_count": 0,
      "outputs": []
    },
    {
      "cell_type": "code",
      "metadata": {
        "id": "PStUfH4_PP8j",
        "colab_type": "code",
        "colab": {}
      },
      "source": [
        "#problem 2 - List the companiesd whose Company_Advertising budget is < 3 but Brand_Value is > 20\n",
        "a = df.loc[(df['Company_Advertising']<3) &(df['Brand_Value']>20)]['Brand']\n",
        "a"
      ],
      "execution_count": 0,
      "outputs": []
    },
    {
      "cell_type": "code",
      "metadata": {
        "id": "-2BTLu41QZeu",
        "colab_type": "code",
        "colab": {}
      },
      "source": [
        "#Problem 3 - Find out the top 5 Technology Brand that showed maximum positive jump in their position (Use Change_LastYr)\\\n",
        "\n",
        "sorted = df.sort_values('Change_LastYr',ascending='True', axis=0)\n",
        "sorted = sorted.tail()\n",
        "sorted = sorted.iloc[::-1]\n",
        "sorted[['Industry','Change_LastYr']]\n"
      ],
      "execution_count": 0,
      "outputs": []
    },
    {
      "cell_type": "code",
      "metadata": {
        "id": "NBSZ2dHSYUcw",
        "colab_type": "code",
        "colab": {}
      },
      "source": [
        "#Problem 4 - Find out the Average Brand_Revenue by Industry\n",
        "\n",
        "s =df.groupby('Industry').mean()['Brand_Revenue']\n",
        "s\n"
      ],
      "execution_count": 0,
      "outputs": []
    },
    {
      "cell_type": "code",
      "metadata": {
        "id": "bm48iH_qgDfM",
        "colab_type": "code",
        "colab": {}
      },
      "source": [
        ""
      ],
      "execution_count": 0,
      "outputs": []
    }
  ]
}