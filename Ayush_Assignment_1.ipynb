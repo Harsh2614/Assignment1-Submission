{
  "nbformat": 4,
  "nbformat_minor": 0,
  "metadata": {
    "colab": {
      "name": "Ayush_Assignment_1.ipynb",
      "provenance": []
    },
    "kernelspec": {
      "name": "python3",
      "display_name": "Python 3"
    }
  },
  "cells": [
    {
      "cell_type": "markdown",
      "metadata": {
        "id": "G-hINrZt5KL0",
        "colab_type": "text"
      },
      "source": [
        "**AYUSH** \n",
        "\n",
        "Problem 1 - Which industry has the maximum brands whose Brand_Revenue > 80 Million (Brand revenue is in millions)\n",
        "\n",
        "Problem 2 - List the companiesd whose Company_Advertising budget is < 3 but Brand_Value is > 20\n",
        "\n",
        "Problem 3 - Find out the top 5 Technology Brand that showed maximum positive jump in their position (Use Change_LastYr)\n",
        "\n",
        "Problem 4 - Find out the Average Brand_Revenue by Industry"
      ]
    },
    {
      "cell_type": "code",
      "metadata": {
        "id": "7J_bc7zw5N4A",
        "colab_type": "code",
        "colab": {}
      },
      "source": [
        "import pandas as pd "
      ],
      "execution_count": 0,
      "outputs": []
    },
    {
      "cell_type": "code",
      "metadata": {
        "id": "fEAHKMV95l-w",
        "colab_type": "code",
        "colab": {
          "base_uri": "https://localhost:8080/",
          "height": 34
        },
        "outputId": "3616970d-2640-46a4-9196-1fdddd7b5665"
      },
      "source": [
        "details=pd.read_csv('brand_details.csv',sep='\\t')\n",
        "print(\"Size : \",details.shape)"
      ],
      "execution_count": 105,
      "outputs": [
        {
          "output_type": "stream",
          "text": [
            "Size :  (60, 7)\n"
          ],
          "name": "stdout"
        }
      ]
    },
    {
      "cell_type": "code",
      "metadata": {
        "id": "oD2zKPM8H3b7",
        "colab_type": "code",
        "colab": {
          "base_uri": "https://localhost:8080/",
          "height": 68
        },
        "outputId": "1eefc83d-cbeb-472d-a1ef-3ab97084495f"
      },
      "source": [
        "details.columns"
      ],
      "execution_count": 106,
      "outputs": [
        {
          "output_type": "execute_result",
          "data": {
            "text/plain": [
              "Index(['Rank', 'Brand', 'Brand_Value', 'Change_LastYr', 'Brand_Revenue',\n",
              "       'Company_Advertising', 'Industry'],\n",
              "      dtype='object')"
            ]
          },
          "metadata": {
            "tags": []
          },
          "execution_count": 106
        }
      ]
    },
    {
      "cell_type": "code",
      "metadata": {
        "id": "GLWC1ft-HzJC",
        "colab_type": "code",
        "colab": {
          "base_uri": "https://localhost:8080/",
          "height": 204
        },
        "outputId": "72690d29-aaaf-4469-a00d-622ec0246ec8"
      },
      "source": [
        "details.head()"
      ],
      "execution_count": 107,
      "outputs": [
        {
          "output_type": "execute_result",
          "data": {
            "text/html": [
              "<div>\n",
              "<style scoped>\n",
              "    .dataframe tbody tr th:only-of-type {\n",
              "        vertical-align: middle;\n",
              "    }\n",
              "\n",
              "    .dataframe tbody tr th {\n",
              "        vertical-align: top;\n",
              "    }\n",
              "\n",
              "    .dataframe thead th {\n",
              "        text-align: right;\n",
              "    }\n",
              "</style>\n",
              "<table border=\"1\" class=\"dataframe\">\n",
              "  <thead>\n",
              "    <tr style=\"text-align: right;\">\n",
              "      <th></th>\n",
              "      <th>Rank</th>\n",
              "      <th>Brand</th>\n",
              "      <th>Brand_Value</th>\n",
              "      <th>Change_LastYr</th>\n",
              "      <th>Brand_Revenue</th>\n",
              "      <th>Company_Advertising</th>\n",
              "      <th>Industry</th>\n",
              "    </tr>\n",
              "  </thead>\n",
              "  <tbody>\n",
              "    <tr>\n",
              "      <th>0</th>\n",
              "      <td>1</td>\n",
              "      <td>Apple</td>\n",
              "      <td>145.3</td>\n",
              "      <td>17</td>\n",
              "      <td>182.3</td>\n",
              "      <td>1.2</td>\n",
              "      <td>Technology</td>\n",
              "    </tr>\n",
              "    <tr>\n",
              "      <th>1</th>\n",
              "      <td>2</td>\n",
              "      <td>Microsoft</td>\n",
              "      <td>69.3</td>\n",
              "      <td>10</td>\n",
              "      <td>93.3</td>\n",
              "      <td>2.3</td>\n",
              "      <td>Technology</td>\n",
              "    </tr>\n",
              "    <tr>\n",
              "      <th>2</th>\n",
              "      <td>3</td>\n",
              "      <td>Google</td>\n",
              "      <td>65.6</td>\n",
              "      <td>16</td>\n",
              "      <td>61.8</td>\n",
              "      <td>3.0</td>\n",
              "      <td>Technology</td>\n",
              "    </tr>\n",
              "    <tr>\n",
              "      <th>3</th>\n",
              "      <td>4</td>\n",
              "      <td>Coca-Cola</td>\n",
              "      <td>56.0</td>\n",
              "      <td>0</td>\n",
              "      <td>23.1</td>\n",
              "      <td>3.5</td>\n",
              "      <td>Beverages</td>\n",
              "    </tr>\n",
              "    <tr>\n",
              "      <th>4</th>\n",
              "      <td>5</td>\n",
              "      <td>IBM</td>\n",
              "      <td>49.8</td>\n",
              "      <td>4</td>\n",
              "      <td>92.8</td>\n",
              "      <td>1.3</td>\n",
              "      <td>Technology</td>\n",
              "    </tr>\n",
              "  </tbody>\n",
              "</table>\n",
              "</div>"
            ],
            "text/plain": [
              "   Rank      Brand  Brand_Value  ...  Brand_Revenue  Company_Advertising    Industry\n",
              "0     1      Apple        145.3  ...          182.3                  1.2  Technology\n",
              "1     2  Microsoft         69.3  ...           93.3                  2.3  Technology\n",
              "2     3     Google         65.6  ...           61.8                  3.0  Technology\n",
              "3     4  Coca-Cola         56.0  ...           23.1                  3.5   Beverages\n",
              "4     5        IBM         49.8  ...           92.8                  1.3  Technology\n",
              "\n",
              "[5 rows x 7 columns]"
            ]
          },
          "metadata": {
            "tags": []
          },
          "execution_count": 107
        }
      ]
    },
    {
      "cell_type": "markdown",
      "metadata": {
        "id": "ucYg8Ye_JSaE",
        "colab_type": "text"
      },
      "source": [
        "**Problem 1** \n",
        "Which industry has the maximum brands whose Brand_Revenue > 80 Million (Brand revenue is in millions)"
      ]
    },
    {
      "cell_type": "code",
      "metadata": {
        "id": "bAoIrKBo8vc3",
        "colab_type": "code",
        "colab": {
          "base_uri": "https://localhost:8080/",
          "height": 80
        },
        "outputId": "8872b458-35bb-460d-ad04-35d2af33831d"
      },
      "source": [
        "max_brand=details[details['Brand_Revenue']>80].groupby(['Industry'],as_index=False)['Brand'].count()\n",
        "max_brand[max_brand['Brand']== max_brand['Brand'].max()]"
      ],
      "execution_count": 108,
      "outputs": [
        {
          "output_type": "execute_result",
          "data": {
            "text/html": [
              "<div>\n",
              "<style scoped>\n",
              "    .dataframe tbody tr th:only-of-type {\n",
              "        vertical-align: middle;\n",
              "    }\n",
              "\n",
              "    .dataframe tbody tr th {\n",
              "        vertical-align: top;\n",
              "    }\n",
              "\n",
              "    .dataframe thead th {\n",
              "        text-align: right;\n",
              "    }\n",
              "</style>\n",
              "<table border=\"1\" class=\"dataframe\">\n",
              "  <thead>\n",
              "    <tr style=\"text-align: right;\">\n",
              "      <th></th>\n",
              "      <th>Industry</th>\n",
              "      <th>Brand</th>\n",
              "    </tr>\n",
              "  </thead>\n",
              "  <tbody>\n",
              "    <tr>\n",
              "      <th>4</th>\n",
              "      <td>Technology</td>\n",
              "      <td>6</td>\n",
              "    </tr>\n",
              "  </tbody>\n",
              "</table>\n",
              "</div>"
            ],
            "text/plain": [
              "     Industry  Brand\n",
              "4  Technology      6"
            ]
          },
          "metadata": {
            "tags": []
          },
          "execution_count": 108
        }
      ]
    },
    {
      "cell_type": "markdown",
      "metadata": {
        "id": "3WRmgSIpKruA",
        "colab_type": "text"
      },
      "source": [
        "**Problem 2** - List the companies whose Company_Advertising budget is < 3 but Brand_Value is > 20 "
      ]
    },
    {
      "cell_type": "code",
      "metadata": {
        "id": "WoK3ypLIEqwi",
        "colab_type": "code",
        "colab": {
          "base_uri": "https://localhost:8080/",
          "height": 238
        },
        "outputId": "550a51ad-dba5-4b89-bb9a-5f6dc82590a3"
      },
      "source": [
        "comp=details.loc[(details['Company_Advertising']<3) & (details['Brand_Value']>20)]\n",
        "print(comp) # prints all the details \n",
        "comp['Brand'] # just prints the companies "
      ],
      "execution_count": 115,
      "outputs": [
        {
          "output_type": "execute_result",
          "data": {
            "text/plain": [
              "0         Apple\n",
              "1     Microsoft\n",
              "4           IBM\n",
              "5     McDonalds\n",
              "8      Facebook\n",
              "9        Disney\n",
              "13        Cisco\n",
              "14       Oracle\n",
              "16        Intel\n",
              "17     Wal-Mart\n",
              "18      Verizon\n",
              "20        Honda\n",
              "Name: Brand, dtype: object"
            ]
          },
          "metadata": {
            "tags": []
          },
          "execution_count": 115
        }
      ]
    },
    {
      "cell_type": "markdown",
      "metadata": {
        "id": "A4cV6X6gLlNN",
        "colab_type": "text"
      },
      "source": [
        "**Problem 3**  Find out the top 5 Technology Brand that showed maximum positive jump in their position (Use Change_LastYr)"
      ]
    },
    {
      "cell_type": "code",
      "metadata": {
        "id": "ItGbA-6fLh47",
        "colab_type": "code",
        "colab": {
          "base_uri": "https://localhost:8080/",
          "height": 204
        },
        "outputId": "ee75cf4c-437e-4b9b-c139-e85b86c12a57"
      },
      "source": [
        "max_5=details[details['Industry']==\"Technology\"].nlargest(5,['Change_LastYr'])\n",
        "max_5"
      ],
      "execution_count": 110,
      "outputs": [
        {
          "output_type": "execute_result",
          "data": {
            "text/html": [
              "<div>\n",
              "<style scoped>\n",
              "    .dataframe tbody tr th:only-of-type {\n",
              "        vertical-align: middle;\n",
              "    }\n",
              "\n",
              "    .dataframe tbody tr th {\n",
              "        vertical-align: top;\n",
              "    }\n",
              "\n",
              "    .dataframe thead th {\n",
              "        text-align: right;\n",
              "    }\n",
              "</style>\n",
              "<table border=\"1\" class=\"dataframe\">\n",
              "  <thead>\n",
              "    <tr style=\"text-align: right;\">\n",
              "      <th></th>\n",
              "      <th>Rank</th>\n",
              "      <th>Brand</th>\n",
              "      <th>Brand_Value</th>\n",
              "      <th>Change_LastYr</th>\n",
              "      <th>Brand_Revenue</th>\n",
              "      <th>Company_Advertising</th>\n",
              "      <th>Industry</th>\n",
              "    </tr>\n",
              "  </thead>\n",
              "  <tbody>\n",
              "    <tr>\n",
              "      <th>8</th>\n",
              "      <td>10</td>\n",
              "      <td>Facebook</td>\n",
              "      <td>36.5</td>\n",
              "      <td>54</td>\n",
              "      <td>12.1</td>\n",
              "      <td>0.135</td>\n",
              "      <td>Technology</td>\n",
              "    </tr>\n",
              "    <tr>\n",
              "      <th>11</th>\n",
              "      <td>13</td>\n",
              "      <td>Amazon</td>\n",
              "      <td>28.1</td>\n",
              "      <td>32</td>\n",
              "      <td>87.5</td>\n",
              "      <td>3.300</td>\n",
              "      <td>Technology</td>\n",
              "    </tr>\n",
              "    <tr>\n",
              "      <th>33</th>\n",
              "      <td>50</td>\n",
              "      <td>Ebay</td>\n",
              "      <td>11.0</td>\n",
              "      <td>21</td>\n",
              "      <td>7.6</td>\n",
              "      <td>1.300</td>\n",
              "      <td>Technology</td>\n",
              "    </tr>\n",
              "    <tr>\n",
              "      <th>50</th>\n",
              "      <td>79</td>\n",
              "      <td>Sony</td>\n",
              "      <td>6.9</td>\n",
              "      <td>21</td>\n",
              "      <td>63.6</td>\n",
              "      <td>3.200</td>\n",
              "      <td>Technology</td>\n",
              "    </tr>\n",
              "    <tr>\n",
              "      <th>0</th>\n",
              "      <td>1</td>\n",
              "      <td>Apple</td>\n",
              "      <td>145.3</td>\n",
              "      <td>17</td>\n",
              "      <td>182.3</td>\n",
              "      <td>1.200</td>\n",
              "      <td>Technology</td>\n",
              "    </tr>\n",
              "  </tbody>\n",
              "</table>\n",
              "</div>"
            ],
            "text/plain": [
              "    Rank     Brand  Brand_Value  ...  Brand_Revenue  Company_Advertising    Industry\n",
              "8     10  Facebook         36.5  ...           12.1                0.135  Technology\n",
              "11    13    Amazon         28.1  ...           87.5                3.300  Technology\n",
              "33    50      Ebay         11.0  ...            7.6                1.300  Technology\n",
              "50    79      Sony          6.9  ...           63.6                3.200  Technology\n",
              "0      1     Apple        145.3  ...          182.3                1.200  Technology\n",
              "\n",
              "[5 rows x 7 columns]"
            ]
          },
          "metadata": {
            "tags": []
          },
          "execution_count": 110
        }
      ]
    },
    {
      "cell_type": "markdown",
      "metadata": {
        "id": "2Jn1G55tMNPN",
        "colab_type": "text"
      },
      "source": [
        "**Problem 4** Find out the Average Brand_Revenue by Industry"
      ]
    },
    {
      "cell_type": "code",
      "metadata": {
        "id": "Bifo0CsIMQ5P",
        "colab_type": "code",
        "colab": {
          "base_uri": "https://localhost:8080/",
          "height": 289
        },
        "outputId": "cb373728-fdbb-4f10-ae19-0ddd816008ce"
      },
      "source": [
        "avg_brand_revenue=details.groupby('Industry',as_index=False)['Brand_Revenue'].mean()\n",
        "print(avg_brand_revenue)"
      ],
      "execution_count": 111,
      "outputs": [
        {
          "output_type": "stream",
          "text": [
            "                   Industry  Brand_Revenue\n",
            "0                   Apparel      17.700000\n",
            "1                Automotive      97.385714\n",
            "2                 Beverages      13.133333\n",
            "3         Business Services      32.800000\n",
            "4   Consumer Packaged Goods       7.175000\n",
            "5        Financial Services      51.622222\n",
            "6           Heavy Equipment      36.100000\n",
            "7                   Leisure      26.400000\n",
            "8                    Luxury       5.900000\n",
            "9                     Media       9.200000\n",
            "10              Restaurants      51.900000\n",
            "11                   Retail     156.266667\n",
            "12               Technology      80.238462\n",
            "13                  Telecom     129.750000\n",
            "14           Transportation      47.200000\n"
          ],
          "name": "stdout"
        }
      ]
    }
  ]
}