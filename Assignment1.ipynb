{
  "nbformat": 4,
  "nbformat_minor": 0,
  "metadata": {
    "colab": {
      "name": "Assignment1",
      "provenance": []
    },
    "kernelspec": {
      "name": "python3",
      "display_name": "Python 3"
    }
  },
  "cells": [
    {
      "cell_type": "code",
      "metadata": {
        "id": "-aEen-n9REON",
        "colab_type": "code",
        "outputId": "efc05cd0-1764-42c4-d033-c503802c3591",
        "colab": {
          "base_uri": "https://localhost:8080/",
          "height": 204
        }
      },
      "source": [
        "#Anshaj Goyal\n",
        "import pandas as pd\n",
        "df = pd.read_csv(\"brandDetails.csv\")\n",
        "df.head()"
      ],
      "execution_count": 0,
      "outputs": [
        {
          "output_type": "execute_result",
          "data": {
            "text/html": [
              "<div>\n",
              "<style scoped>\n",
              "    .dataframe tbody tr th:only-of-type {\n",
              "        vertical-align: middle;\n",
              "    }\n",
              "\n",
              "    .dataframe tbody tr th {\n",
              "        vertical-align: top;\n",
              "    }\n",
              "\n",
              "    .dataframe thead th {\n",
              "        text-align: right;\n",
              "    }\n",
              "</style>\n",
              "<table border=\"1\" class=\"dataframe\">\n",
              "  <thead>\n",
              "    <tr style=\"text-align: right;\">\n",
              "      <th></th>\n",
              "      <th>Rank</th>\n",
              "      <th>Brand</th>\n",
              "      <th>Brand_Value</th>\n",
              "      <th>Change_LastYr</th>\n",
              "      <th>Brand_Revenue</th>\n",
              "      <th>Company_Advertising</th>\n",
              "      <th>Industry</th>\n",
              "    </tr>\n",
              "  </thead>\n",
              "  <tbody>\n",
              "    <tr>\n",
              "      <th>0</th>\n",
              "      <td>1</td>\n",
              "      <td>Apple</td>\n",
              "      <td>145.3</td>\n",
              "      <td>17</td>\n",
              "      <td>182.3</td>\n",
              "      <td>1.2</td>\n",
              "      <td>Technology</td>\n",
              "    </tr>\n",
              "    <tr>\n",
              "      <th>1</th>\n",
              "      <td>2</td>\n",
              "      <td>Microsoft</td>\n",
              "      <td>69.3</td>\n",
              "      <td>10</td>\n",
              "      <td>93.3</td>\n",
              "      <td>2.3</td>\n",
              "      <td>Technology</td>\n",
              "    </tr>\n",
              "    <tr>\n",
              "      <th>2</th>\n",
              "      <td>3</td>\n",
              "      <td>Google</td>\n",
              "      <td>65.6</td>\n",
              "      <td>16</td>\n",
              "      <td>61.8</td>\n",
              "      <td>3.0</td>\n",
              "      <td>Technology</td>\n",
              "    </tr>\n",
              "    <tr>\n",
              "      <th>3</th>\n",
              "      <td>4</td>\n",
              "      <td>Coca-Cola</td>\n",
              "      <td>56.0</td>\n",
              "      <td>0</td>\n",
              "      <td>23.1</td>\n",
              "      <td>3.5</td>\n",
              "      <td>Beverages</td>\n",
              "    </tr>\n",
              "    <tr>\n",
              "      <th>4</th>\n",
              "      <td>5</td>\n",
              "      <td>IBM</td>\n",
              "      <td>49.8</td>\n",
              "      <td>4</td>\n",
              "      <td>92.8</td>\n",
              "      <td>1.3</td>\n",
              "      <td>Technology</td>\n",
              "    </tr>\n",
              "  </tbody>\n",
              "</table>\n",
              "</div>"
            ],
            "text/plain": [
              "   Rank      Brand  Brand_Value  ...  Brand_Revenue  Company_Advertising    Industry\n",
              "0     1      Apple        145.3  ...          182.3                  1.2  Technology\n",
              "1     2  Microsoft         69.3  ...           93.3                  2.3  Technology\n",
              "2     3     Google         65.6  ...           61.8                  3.0  Technology\n",
              "3     4  Coca-Cola         56.0  ...           23.1                  3.5   Beverages\n",
              "4     5        IBM         49.8  ...           92.8                  1.3  Technology\n",
              "\n",
              "[5 rows x 7 columns]"
            ]
          },
          "metadata": {
            "tags": []
          },
          "execution_count": 2
        }
      ]
    },
    {
      "cell_type": "markdown",
      "metadata": {
        "id": "MwPYfJRx41w4",
        "colab_type": "text"
      },
      "source": [
        "**Problem #1**\n",
        " *Which industry has the maximum brands whose Brand_Revenue > 80 Million*"
      ]
    },
    {
      "cell_type": "code",
      "metadata": {
        "id": "TVCSfe9Vyrv-",
        "colab_type": "code",
        "outputId": "98270479-aec8-4bc6-aecc-6790edc1123b",
        "colab": {
          "base_uri": "https://localhost:8080/",
          "height": 170
        }
      },
      "source": [
        "#Getting full sorted list of Industry with number of brands they hold with revenue>80 Million\n",
        "print(df.loc[(df['Brand_Revenue'] > 80)].groupby(['Industry'])['Brand'].count().sort_values(ascending=False)\n",
        "df.loc[(df['Brand_Revenue'] > 80)].groupby(['Industry'])['Brand'].count().max()"
      ],
      "execution_count": 0,
      "outputs": [
        {
          "output_type": "stream",
          "text": [
            "Industry\n",
            "Technology            6\n",
            "Automotive            4\n",
            "Telecom               2\n",
            "Retail                2\n",
            "Financial Services    2\n",
            "Restaurants           1\n",
            "Name: Brand, dtype: int64\n"
          ],
          "name": "stdout"
        },
        {
          "output_type": "execute_result",
          "data": {
            "text/plain": [
              "6"
            ]
          },
          "metadata": {
            "tags": []
          },
          "execution_count": 46
        }
      ]
    },
    {
      "cell_type": "code",
      "metadata": {
        "id": "WKXc710V3WfR",
        "colab_type": "code",
        "outputId": "a0e57544-fef2-4d9d-a23c-1e357c7c4396",
        "colab": {
          "base_uri": "https://localhost:8080/",
          "height": 68
        }
      },
      "source": [
        "#Getting single row of Industry with maximum brands with revenues > 80 million\n",
        "df[df['Brand_Revenue']>80].groupby(['Industry'],as_index=False)['Brand'].count().max()"
      ],
      "execution_count": 0,
      "outputs": [
        {
          "output_type": "execute_result",
          "data": {
            "text/plain": [
              "Industry    Telecom\n",
              "Brand             6\n",
              "dtype: object"
            ]
          },
          "metadata": {
            "tags": []
          },
          "execution_count": 73
        }
      ]
    },
    {
      "cell_type": "markdown",
      "metadata": {
        "id": "wbvuFfz05vkW",
        "colab_type": "text"
      },
      "source": [
        "**Probelem #2**\n",
        "*List the companiesd whose Company_Advertising budget is < 3 but Brand_Value is > 20*"
      ]
    },
    {
      "cell_type": "code",
      "metadata": {
        "id": "s-hbQQql51T3",
        "colab_type": "code",
        "outputId": "2c9894ce-050c-4a7f-d0ff-6dbbdbd7f9b1",
        "colab": {
          "base_uri": "https://localhost:8080/",
          "height": 421
        }
      },
      "source": [
        "df.loc[(df['Company_Advertising']<3) & (df['Brand_Value']>20)]"
      ],
      "execution_count": 0,
      "outputs": [
        {
          "output_type": "execute_result",
          "data": {
            "text/html": [
              "<div>\n",
              "<style scoped>\n",
              "    .dataframe tbody tr th:only-of-type {\n",
              "        vertical-align: middle;\n",
              "    }\n",
              "\n",
              "    .dataframe tbody tr th {\n",
              "        vertical-align: top;\n",
              "    }\n",
              "\n",
              "    .dataframe thead th {\n",
              "        text-align: right;\n",
              "    }\n",
              "</style>\n",
              "<table border=\"1\" class=\"dataframe\">\n",
              "  <thead>\n",
              "    <tr style=\"text-align: right;\">\n",
              "      <th></th>\n",
              "      <th>Rank</th>\n",
              "      <th>Brand</th>\n",
              "      <th>Brand_Value</th>\n",
              "      <th>Change_LastYr</th>\n",
              "      <th>Brand_Revenue</th>\n",
              "      <th>Company_Advertising</th>\n",
              "      <th>Industry</th>\n",
              "    </tr>\n",
              "  </thead>\n",
              "  <tbody>\n",
              "    <tr>\n",
              "      <th>0</th>\n",
              "      <td>1</td>\n",
              "      <td>Apple</td>\n",
              "      <td>145.3</td>\n",
              "      <td>17</td>\n",
              "      <td>182.3</td>\n",
              "      <td>1.200</td>\n",
              "      <td>Technology</td>\n",
              "    </tr>\n",
              "    <tr>\n",
              "      <th>1</th>\n",
              "      <td>2</td>\n",
              "      <td>Microsoft</td>\n",
              "      <td>69.3</td>\n",
              "      <td>10</td>\n",
              "      <td>93.3</td>\n",
              "      <td>2.300</td>\n",
              "      <td>Technology</td>\n",
              "    </tr>\n",
              "    <tr>\n",
              "      <th>4</th>\n",
              "      <td>5</td>\n",
              "      <td>IBM</td>\n",
              "      <td>49.8</td>\n",
              "      <td>4</td>\n",
              "      <td>92.8</td>\n",
              "      <td>1.300</td>\n",
              "      <td>Technology</td>\n",
              "    </tr>\n",
              "    <tr>\n",
              "      <th>5</th>\n",
              "      <td>6</td>\n",
              "      <td>McDonalds</td>\n",
              "      <td>39.5</td>\n",
              "      <td>-1</td>\n",
              "      <td>87.8</td>\n",
              "      <td>0.808</td>\n",
              "      <td>Restaurants</td>\n",
              "    </tr>\n",
              "    <tr>\n",
              "      <th>8</th>\n",
              "      <td>10</td>\n",
              "      <td>Facebook</td>\n",
              "      <td>36.5</td>\n",
              "      <td>54</td>\n",
              "      <td>12.1</td>\n",
              "      <td>0.135</td>\n",
              "      <td>Technology</td>\n",
              "    </tr>\n",
              "    <tr>\n",
              "      <th>9</th>\n",
              "      <td>11</td>\n",
              "      <td>Disney</td>\n",
              "      <td>34.6</td>\n",
              "      <td>26</td>\n",
              "      <td>26.4</td>\n",
              "      <td>2.800</td>\n",
              "      <td>Leisure</td>\n",
              "    </tr>\n",
              "    <tr>\n",
              "      <th>13</th>\n",
              "      <td>15</td>\n",
              "      <td>Cisco</td>\n",
              "      <td>27.6</td>\n",
              "      <td>-2</td>\n",
              "      <td>48.1</td>\n",
              "      <td>0.196</td>\n",
              "      <td>Technology</td>\n",
              "    </tr>\n",
              "    <tr>\n",
              "      <th>14</th>\n",
              "      <td>17</td>\n",
              "      <td>Oracle</td>\n",
              "      <td>26.8</td>\n",
              "      <td>4</td>\n",
              "      <td>38.8</td>\n",
              "      <td>0.079</td>\n",
              "      <td>Technology</td>\n",
              "    </tr>\n",
              "    <tr>\n",
              "      <th>16</th>\n",
              "      <td>19</td>\n",
              "      <td>Intel</td>\n",
              "      <td>25.8</td>\n",
              "      <td>-8</td>\n",
              "      <td>55.9</td>\n",
              "      <td>1.800</td>\n",
              "      <td>Technology</td>\n",
              "    </tr>\n",
              "    <tr>\n",
              "      <th>17</th>\n",
              "      <td>20</td>\n",
              "      <td>Wal-Mart</td>\n",
              "      <td>24.7</td>\n",
              "      <td>6</td>\n",
              "      <td>313.0</td>\n",
              "      <td>2.400</td>\n",
              "      <td>Retail</td>\n",
              "    </tr>\n",
              "    <tr>\n",
              "      <th>18</th>\n",
              "      <td>21</td>\n",
              "      <td>Verizon</td>\n",
              "      <td>24.5</td>\n",
              "      <td>14</td>\n",
              "      <td>127.1</td>\n",
              "      <td>2.500</td>\n",
              "      <td>Telecom</td>\n",
              "    </tr>\n",
              "    <tr>\n",
              "      <th>20</th>\n",
              "      <td>23</td>\n",
              "      <td>Honda</td>\n",
              "      <td>22.6</td>\n",
              "      <td>-3</td>\n",
              "      <td>101.3</td>\n",
              "      <td>2.700</td>\n",
              "      <td>Automotive</td>\n",
              "    </tr>\n",
              "  </tbody>\n",
              "</table>\n",
              "</div>"
            ],
            "text/plain": [
              "    Rank      Brand  ...  Company_Advertising     Industry\n",
              "0      1      Apple  ...                1.200   Technology\n",
              "1      2  Microsoft  ...                2.300   Technology\n",
              "4      5        IBM  ...                1.300   Technology\n",
              "5      6  McDonalds  ...                0.808  Restaurants\n",
              "8     10   Facebook  ...                0.135   Technology\n",
              "9     11     Disney  ...                2.800      Leisure\n",
              "13    15      Cisco  ...                0.196   Technology\n",
              "14    17     Oracle  ...                0.079   Technology\n",
              "16    19      Intel  ...                1.800   Technology\n",
              "17    20   Wal-Mart  ...                2.400       Retail\n",
              "18    21    Verizon  ...                2.500      Telecom\n",
              "20    23      Honda  ...                2.700   Automotive\n",
              "\n",
              "[12 rows x 7 columns]"
            ]
          },
          "metadata": {
            "tags": []
          },
          "execution_count": 83
        }
      ]
    },
    {
      "cell_type": "markdown",
      "metadata": {
        "id": "QXAymSPX7EGc",
        "colab_type": "text"
      },
      "source": [
        "**Problem 3**\n",
        "*Find out the top 5 Technology Brand that showed maximum positive jump in their position (Use Change_LastYr)*"
      ]
    },
    {
      "cell_type": "code",
      "metadata": {
        "id": "-6AQbiC-7ReK",
        "colab_type": "code",
        "outputId": "004fdcd9-082f-4c55-dedc-a69bdfbdbffa",
        "colab": {
          "base_uri": "https://localhost:8080/",
          "height": 204
        }
      },
      "source": [
        "a = df.loc[(df['Industry']==\"Technology\")]\n",
        "# a.sort_values('Change_LastYr',ascending=False)\n",
        "a.nlargest(5,['Change_LastYr'])"
      ],
      "execution_count": 0,
      "outputs": [
        {
          "output_type": "execute_result",
          "data": {
            "text/html": [
              "<div>\n",
              "<style scoped>\n",
              "    .dataframe tbody tr th:only-of-type {\n",
              "        vertical-align: middle;\n",
              "    }\n",
              "\n",
              "    .dataframe tbody tr th {\n",
              "        vertical-align: top;\n",
              "    }\n",
              "\n",
              "    .dataframe thead th {\n",
              "        text-align: right;\n",
              "    }\n",
              "</style>\n",
              "<table border=\"1\" class=\"dataframe\">\n",
              "  <thead>\n",
              "    <tr style=\"text-align: right;\">\n",
              "      <th></th>\n",
              "      <th>Rank</th>\n",
              "      <th>Brand</th>\n",
              "      <th>Brand_Value</th>\n",
              "      <th>Change_LastYr</th>\n",
              "      <th>Brand_Revenue</th>\n",
              "      <th>Company_Advertising</th>\n",
              "      <th>Industry</th>\n",
              "    </tr>\n",
              "  </thead>\n",
              "  <tbody>\n",
              "    <tr>\n",
              "      <th>8</th>\n",
              "      <td>10</td>\n",
              "      <td>Facebook</td>\n",
              "      <td>36.5</td>\n",
              "      <td>54</td>\n",
              "      <td>12.1</td>\n",
              "      <td>0.135</td>\n",
              "      <td>Technology</td>\n",
              "    </tr>\n",
              "    <tr>\n",
              "      <th>11</th>\n",
              "      <td>13</td>\n",
              "      <td>Amazon</td>\n",
              "      <td>28.1</td>\n",
              "      <td>32</td>\n",
              "      <td>87.5</td>\n",
              "      <td>3.300</td>\n",
              "      <td>Technology</td>\n",
              "    </tr>\n",
              "    <tr>\n",
              "      <th>33</th>\n",
              "      <td>50</td>\n",
              "      <td>Ebay</td>\n",
              "      <td>11.0</td>\n",
              "      <td>21</td>\n",
              "      <td>7.6</td>\n",
              "      <td>1.300</td>\n",
              "      <td>Technology</td>\n",
              "    </tr>\n",
              "    <tr>\n",
              "      <th>50</th>\n",
              "      <td>79</td>\n",
              "      <td>Sony</td>\n",
              "      <td>6.9</td>\n",
              "      <td>21</td>\n",
              "      <td>63.6</td>\n",
              "      <td>3.200</td>\n",
              "      <td>Technology</td>\n",
              "    </tr>\n",
              "    <tr>\n",
              "      <th>0</th>\n",
              "      <td>1</td>\n",
              "      <td>Apple</td>\n",
              "      <td>145.3</td>\n",
              "      <td>17</td>\n",
              "      <td>182.3</td>\n",
              "      <td>1.200</td>\n",
              "      <td>Technology</td>\n",
              "    </tr>\n",
              "  </tbody>\n",
              "</table>\n",
              "</div>"
            ],
            "text/plain": [
              "    Rank     Brand  Brand_Value  ...  Brand_Revenue  Company_Advertising    Industry\n",
              "8     10  Facebook         36.5  ...           12.1                0.135  Technology\n",
              "11    13    Amazon         28.1  ...           87.5                3.300  Technology\n",
              "33    50      Ebay         11.0  ...            7.6                1.300  Technology\n",
              "50    79      Sony          6.9  ...           63.6                3.200  Technology\n",
              "0      1     Apple        145.3  ...          182.3                1.200  Technology\n",
              "\n",
              "[5 rows x 7 columns]"
            ]
          },
          "metadata": {
            "tags": []
          },
          "execution_count": 88
        }
      ]
    },
    {
      "cell_type": "markdown",
      "metadata": {
        "id": "4yJhaArp8XSk",
        "colab_type": "text"
      },
      "source": [
        "**Problem 4**\n",
        "*Find out the Average Brand_Revenue by Industry*"
      ]
    },
    {
      "cell_type": "code",
      "metadata": {
        "id": "Av8kEX3Q8cEu",
        "colab_type": "code",
        "outputId": "d67f4adb-3b5e-459a-b8ce-04a6189b27ff",
        "colab": {
          "base_uri": "https://localhost:8080/",
          "height": 306
        }
      },
      "source": [
        "df.groupby(['Industry'])['Brand_Revenue'].mean()"
      ],
      "execution_count": 0,
      "outputs": [
        {
          "output_type": "execute_result",
          "data": {
            "text/plain": [
              "Industry\n",
              "Apparel                     17.700000\n",
              "Automotive                  97.385714\n",
              "Beverages                   13.133333\n",
              "Business Services           32.800000\n",
              "Consumer Packaged Goods      7.175000\n",
              "Financial Services          51.622222\n",
              "Heavy Equipment             36.100000\n",
              "Leisure                     26.400000\n",
              "Luxury                       5.900000\n",
              "Media                        9.200000\n",
              "Restaurants                 51.900000\n",
              "Retail                     156.266667\n",
              "Technology                  80.238462\n",
              "Telecom                    129.750000\n",
              "Transportation              47.200000\n",
              "Name: Brand_Revenue, dtype: float64"
            ]
          },
          "metadata": {
            "tags": []
          },
          "execution_count": 92
        }
      ]
    }
  ]
}