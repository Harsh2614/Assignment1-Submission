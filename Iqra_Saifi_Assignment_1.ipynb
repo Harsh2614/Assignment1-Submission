{
  "nbformat": 4,
  "nbformat_minor": 0,
  "metadata": {
    "colab": {
      "name": "Iqra Saifi_Assignment 1.ipynb",
      "provenance": [],
      "collapsed_sections": []
    },
    "kernelspec": {
      "name": "python3",
      "display_name": "Python 3"
    }
  },
  "cells": [
    {
      "cell_type": "markdown",
      "metadata": {
        "id": "DZna5krjTnK9",
        "colab_type": "text"
      },
      "source": [
        "**IQRA SAIFI** "
      ]
    },
    {
      "cell_type": "markdown",
      "metadata": {
        "id": "NGfPJQTxBvSj",
        "colab_type": "text"
      },
      "source": [
        "**Assignment 1**"
      ]
    },
    {
      "cell_type": "code",
      "metadata": {
        "id": "8jclJAbFNg8h",
        "colab_type": "code",
        "outputId": "699b6a2c-e04d-4278-8c46-7753a3720735",
        "colab": {
          "base_uri": "https://localhost:8080/",
          "height": 195
        }
      },
      "source": [
        "import pandas as pd\n",
        "df_brand=pd.read_csv(\"/content/brand_details.csv\",sep='\\t')\n",
        "df_brand\n",
        "df_brand.head()"
      ],
      "execution_count": 1,
      "outputs": [
        {
          "output_type": "execute_result",
          "data": {
            "text/html": [
              "<div>\n",
              "<style scoped>\n",
              "    .dataframe tbody tr th:only-of-type {\n",
              "        vertical-align: middle;\n",
              "    }\n",
              "\n",
              "    .dataframe tbody tr th {\n",
              "        vertical-align: top;\n",
              "    }\n",
              "\n",
              "    .dataframe thead th {\n",
              "        text-align: right;\n",
              "    }\n",
              "</style>\n",
              "<table border=\"1\" class=\"dataframe\">\n",
              "  <thead>\n",
              "    <tr style=\"text-align: right;\">\n",
              "      <th></th>\n",
              "      <th>Rank</th>\n",
              "      <th>Brand</th>\n",
              "      <th>Brand_Value</th>\n",
              "      <th>Change_LastYr</th>\n",
              "      <th>Brand_Revenue</th>\n",
              "      <th>Company_Advertising</th>\n",
              "      <th>Industry</th>\n",
              "    </tr>\n",
              "  </thead>\n",
              "  <tbody>\n",
              "    <tr>\n",
              "      <th>0</th>\n",
              "      <td>1</td>\n",
              "      <td>Apple</td>\n",
              "      <td>145.3</td>\n",
              "      <td>17</td>\n",
              "      <td>182.3</td>\n",
              "      <td>1.2</td>\n",
              "      <td>Technology</td>\n",
              "    </tr>\n",
              "    <tr>\n",
              "      <th>1</th>\n",
              "      <td>2</td>\n",
              "      <td>Microsoft</td>\n",
              "      <td>69.3</td>\n",
              "      <td>10</td>\n",
              "      <td>93.3</td>\n",
              "      <td>2.3</td>\n",
              "      <td>Technology</td>\n",
              "    </tr>\n",
              "    <tr>\n",
              "      <th>2</th>\n",
              "      <td>3</td>\n",
              "      <td>Google</td>\n",
              "      <td>65.6</td>\n",
              "      <td>16</td>\n",
              "      <td>61.8</td>\n",
              "      <td>3.0</td>\n",
              "      <td>Technology</td>\n",
              "    </tr>\n",
              "    <tr>\n",
              "      <th>3</th>\n",
              "      <td>4</td>\n",
              "      <td>Coca-Cola</td>\n",
              "      <td>56.0</td>\n",
              "      <td>0</td>\n",
              "      <td>23.1</td>\n",
              "      <td>3.5</td>\n",
              "      <td>Beverages</td>\n",
              "    </tr>\n",
              "    <tr>\n",
              "      <th>4</th>\n",
              "      <td>5</td>\n",
              "      <td>IBM</td>\n",
              "      <td>49.8</td>\n",
              "      <td>4</td>\n",
              "      <td>92.8</td>\n",
              "      <td>1.3</td>\n",
              "      <td>Technology</td>\n",
              "    </tr>\n",
              "  </tbody>\n",
              "</table>\n",
              "</div>"
            ],
            "text/plain": [
              "   Rank      Brand  Brand_Value  ...  Brand_Revenue  Company_Advertising    Industry\n",
              "0     1      Apple        145.3  ...          182.3                  1.2  Technology\n",
              "1     2  Microsoft         69.3  ...           93.3                  2.3  Technology\n",
              "2     3     Google         65.6  ...           61.8                  3.0  Technology\n",
              "3     4  Coca-Cola         56.0  ...           23.1                  3.5   Beverages\n",
              "4     5        IBM         49.8  ...           92.8                  1.3  Technology\n",
              "\n",
              "[5 rows x 7 columns]"
            ]
          },
          "metadata": {
            "tags": []
          },
          "execution_count": 1
        }
      ]
    },
    {
      "cell_type": "markdown",
      "metadata": {
        "id": "R3mYDhrdUsnm",
        "colab_type": "text"
      },
      "source": [
        "**Problem 1 - Which industry has the maximum brands whose Brand_Revenue > 80 Million (Brand revenue is in millions)**"
      ]
    },
    {
      "cell_type": "code",
      "metadata": {
        "id": "qQxBKf5bUyf6",
        "colab_type": "code",
        "outputId": "7e72b806-441d-4337-846d-0b2a63a14e77",
        "colab": {
          "base_uri": "https://localhost:8080/",
          "height": 52
        }
      },
      "source": [
        "req_ind=df_brand.loc[(df_brand['Brand_Revenue'] > 80)].groupby(['Industry'])['Brand'].count().max()\n",
        "req_ind\n",
        "df_brand.loc[req_ind][['Industry']]"
      ],
      "execution_count": 29,
      "outputs": [
        {
          "output_type": "execute_result",
          "data": {
            "text/plain": [
              "Industry    Technology\n",
              "Name: 6, dtype: object"
            ]
          },
          "metadata": {
            "tags": []
          },
          "execution_count": 29
        }
      ]
    },
    {
      "cell_type": "markdown",
      "metadata": {
        "id": "4QwhOJQNbTTH",
        "colab_type": "text"
      },
      "source": [
        "**Problem 2 - List the companies whose Company_Advertising budget is < 3 but Brand_Value is > 20**"
      ]
    },
    {
      "cell_type": "code",
      "metadata": {
        "id": "ehfOyxQRbWVm",
        "colab_type": "code",
        "outputId": "9c148afb-9c52-49a5-9d78-007020378470",
        "colab": {
          "base_uri": "https://localhost:8080/",
          "height": 402
        }
      },
      "source": [
        "df_brand[(df_brand.Brand_Value>20) & (df_brand.Company_Advertising<3)][['Brand','Company_Advertising','Brand_Value']]"
      ],
      "execution_count": 0,
      "outputs": [
        {
          "output_type": "execute_result",
          "data": {
            "text/html": [
              "<div>\n",
              "<style scoped>\n",
              "    .dataframe tbody tr th:only-of-type {\n",
              "        vertical-align: middle;\n",
              "    }\n",
              "\n",
              "    .dataframe tbody tr th {\n",
              "        vertical-align: top;\n",
              "    }\n",
              "\n",
              "    .dataframe thead th {\n",
              "        text-align: right;\n",
              "    }\n",
              "</style>\n",
              "<table border=\"1\" class=\"dataframe\">\n",
              "  <thead>\n",
              "    <tr style=\"text-align: right;\">\n",
              "      <th></th>\n",
              "      <th>Brand</th>\n",
              "      <th>Company_Advertising</th>\n",
              "      <th>Brand_Value</th>\n",
              "    </tr>\n",
              "  </thead>\n",
              "  <tbody>\n",
              "    <tr>\n",
              "      <th>0</th>\n",
              "      <td>Apple</td>\n",
              "      <td>1.200</td>\n",
              "      <td>145.3</td>\n",
              "    </tr>\n",
              "    <tr>\n",
              "      <th>1</th>\n",
              "      <td>Microsoft</td>\n",
              "      <td>2.300</td>\n",
              "      <td>69.3</td>\n",
              "    </tr>\n",
              "    <tr>\n",
              "      <th>4</th>\n",
              "      <td>IBM</td>\n",
              "      <td>1.300</td>\n",
              "      <td>49.8</td>\n",
              "    </tr>\n",
              "    <tr>\n",
              "      <th>5</th>\n",
              "      <td>McDonalds</td>\n",
              "      <td>0.808</td>\n",
              "      <td>39.5</td>\n",
              "    </tr>\n",
              "    <tr>\n",
              "      <th>8</th>\n",
              "      <td>Facebook</td>\n",
              "      <td>0.135</td>\n",
              "      <td>36.5</td>\n",
              "    </tr>\n",
              "    <tr>\n",
              "      <th>9</th>\n",
              "      <td>Disney</td>\n",
              "      <td>2.800</td>\n",
              "      <td>34.6</td>\n",
              "    </tr>\n",
              "    <tr>\n",
              "      <th>13</th>\n",
              "      <td>Cisco</td>\n",
              "      <td>0.196</td>\n",
              "      <td>27.6</td>\n",
              "    </tr>\n",
              "    <tr>\n",
              "      <th>14</th>\n",
              "      <td>Oracle</td>\n",
              "      <td>0.079</td>\n",
              "      <td>26.8</td>\n",
              "    </tr>\n",
              "    <tr>\n",
              "      <th>16</th>\n",
              "      <td>Intel</td>\n",
              "      <td>1.800</td>\n",
              "      <td>25.8</td>\n",
              "    </tr>\n",
              "    <tr>\n",
              "      <th>17</th>\n",
              "      <td>Wal-Mart</td>\n",
              "      <td>2.400</td>\n",
              "      <td>24.7</td>\n",
              "    </tr>\n",
              "    <tr>\n",
              "      <th>18</th>\n",
              "      <td>Verizon</td>\n",
              "      <td>2.500</td>\n",
              "      <td>24.5</td>\n",
              "    </tr>\n",
              "    <tr>\n",
              "      <th>20</th>\n",
              "      <td>Honda</td>\n",
              "      <td>2.700</td>\n",
              "      <td>22.6</td>\n",
              "    </tr>\n",
              "  </tbody>\n",
              "</table>\n",
              "</div>"
            ],
            "text/plain": [
              "        Brand  Company_Advertising  Brand_Value\n",
              "0       Apple                1.200        145.3\n",
              "1   Microsoft                2.300         69.3\n",
              "4         IBM                1.300         49.8\n",
              "5   McDonalds                0.808         39.5\n",
              "8    Facebook                0.135         36.5\n",
              "9      Disney                2.800         34.6\n",
              "13      Cisco                0.196         27.6\n",
              "14     Oracle                0.079         26.8\n",
              "16      Intel                1.800         25.8\n",
              "17   Wal-Mart                2.400         24.7\n",
              "18    Verizon                2.500         24.5\n",
              "20      Honda                2.700         22.6"
            ]
          },
          "metadata": {
            "tags": []
          },
          "execution_count": 49
        }
      ]
    },
    {
      "cell_type": "markdown",
      "metadata": {
        "id": "HrT4IuoViIPP",
        "colab_type": "text"
      },
      "source": [
        "**Problem 3 - Find out the top 5 Technology Brand that showed maximum positive jump in their position (Use Change_LastYr)**"
      ]
    },
    {
      "cell_type": "code",
      "metadata": {
        "id": "xuaJ8IqRiPCH",
        "colab_type": "code",
        "outputId": "8ac858b6-eac6-4a31-f561-97a31b3cde32",
        "colab": {
          "base_uri": "https://localhost:8080/",
          "height": 195
        }
      },
      "source": [
        "df=df_brand.sort_values(['Change_LastYr'], ascending=False)\n",
        "a=df.loc[(df.Industry=='Technology')]\n",
        "req_brand=a.head(5)\n",
        "req_brand"
      ],
      "execution_count": 37,
      "outputs": [
        {
          "output_type": "execute_result",
          "data": {
            "text/html": [
              "<div>\n",
              "<style scoped>\n",
              "    .dataframe tbody tr th:only-of-type {\n",
              "        vertical-align: middle;\n",
              "    }\n",
              "\n",
              "    .dataframe tbody tr th {\n",
              "        vertical-align: top;\n",
              "    }\n",
              "\n",
              "    .dataframe thead th {\n",
              "        text-align: right;\n",
              "    }\n",
              "</style>\n",
              "<table border=\"1\" class=\"dataframe\">\n",
              "  <thead>\n",
              "    <tr style=\"text-align: right;\">\n",
              "      <th></th>\n",
              "      <th>Rank</th>\n",
              "      <th>Brand</th>\n",
              "      <th>Brand_Value</th>\n",
              "      <th>Change_LastYr</th>\n",
              "      <th>Brand_Revenue</th>\n",
              "      <th>Company_Advertising</th>\n",
              "      <th>Industry</th>\n",
              "    </tr>\n",
              "  </thead>\n",
              "  <tbody>\n",
              "    <tr>\n",
              "      <th>8</th>\n",
              "      <td>10</td>\n",
              "      <td>Facebook</td>\n",
              "      <td>36.5</td>\n",
              "      <td>54</td>\n",
              "      <td>12.1</td>\n",
              "      <td>0.135</td>\n",
              "      <td>Technology</td>\n",
              "    </tr>\n",
              "    <tr>\n",
              "      <th>11</th>\n",
              "      <td>13</td>\n",
              "      <td>Amazon</td>\n",
              "      <td>28.1</td>\n",
              "      <td>32</td>\n",
              "      <td>87.5</td>\n",
              "      <td>3.300</td>\n",
              "      <td>Technology</td>\n",
              "    </tr>\n",
              "    <tr>\n",
              "      <th>33</th>\n",
              "      <td>50</td>\n",
              "      <td>Ebay</td>\n",
              "      <td>11.0</td>\n",
              "      <td>21</td>\n",
              "      <td>7.6</td>\n",
              "      <td>1.300</td>\n",
              "      <td>Technology</td>\n",
              "    </tr>\n",
              "    <tr>\n",
              "      <th>50</th>\n",
              "      <td>79</td>\n",
              "      <td>Sony</td>\n",
              "      <td>6.9</td>\n",
              "      <td>21</td>\n",
              "      <td>63.6</td>\n",
              "      <td>3.200</td>\n",
              "      <td>Technology</td>\n",
              "    </tr>\n",
              "    <tr>\n",
              "      <th>0</th>\n",
              "      <td>1</td>\n",
              "      <td>Apple</td>\n",
              "      <td>145.3</td>\n",
              "      <td>17</td>\n",
              "      <td>182.3</td>\n",
              "      <td>1.200</td>\n",
              "      <td>Technology</td>\n",
              "    </tr>\n",
              "  </tbody>\n",
              "</table>\n",
              "</div>"
            ],
            "text/plain": [
              "    Rank     Brand  Brand_Value  ...  Brand_Revenue  Company_Advertising    Industry\n",
              "8     10  Facebook         36.5  ...           12.1                0.135  Technology\n",
              "11    13    Amazon         28.1  ...           87.5                3.300  Technology\n",
              "33    50      Ebay         11.0  ...            7.6                1.300  Technology\n",
              "50    79      Sony          6.9  ...           63.6                3.200  Technology\n",
              "0      1     Apple        145.3  ...          182.3                1.200  Technology\n",
              "\n",
              "[5 rows x 7 columns]"
            ]
          },
          "metadata": {
            "tags": []
          },
          "execution_count": 37
        }
      ]
    },
    {
      "cell_type": "markdown",
      "metadata": {
        "id": "MqZtIG56mysg",
        "colab_type": "text"
      },
      "source": [
        "**Problem 4 - Find out the Average Brand_Revenue by Industry**"
      ]
    },
    {
      "cell_type": "code",
      "metadata": {
        "id": "ayLswvL7m2js",
        "colab_type": "code",
        "outputId": "c1b4ba2a-a5ea-4dfb-96f1-dc5f6bae3ccb",
        "colab": {
          "base_uri": "https://localhost:8080/",
          "height": 316
        }
      },
      "source": [
        "df_brand.groupby(['Industry'])['Brand_Revenue'].mean()"
      ],
      "execution_count": 0,
      "outputs": [
        {
          "output_type": "execute_result",
          "data": {
            "text/plain": [
              "Industry\n",
              "Apparel                     17.700000\n",
              "Automotive                  97.385714\n",
              "Beverages                   13.133333\n",
              "Business Services           32.800000\n",
              "Consumer Packaged Goods      7.175000\n",
              "Financial Services          51.622222\n",
              "Heavy Equipment             36.100000\n",
              "Leisure                     26.400000\n",
              "Luxury                       5.900000\n",
              "Media                        9.200000\n",
              "Restaurants                 51.900000\n",
              "Retail                     156.266667\n",
              "Technology                  80.238462\n",
              "Telecom                    129.750000\n",
              "Transportation              47.200000\n",
              "Name: Brand_Revenue, dtype: float64"
            ]
          },
          "metadata": {
            "tags": []
          },
          "execution_count": 70
        }
      ]
    },
    {
      "cell_type": "code",
      "metadata": {
        "id": "OZJTsugIoeZS",
        "colab_type": "code",
        "colab": {}
      },
      "source": [
        ""
      ],
      "execution_count": 0,
      "outputs": []
    }
  ]
}