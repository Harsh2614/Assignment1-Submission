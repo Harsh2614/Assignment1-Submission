{
  "nbformat": 4,
  "nbformat_minor": 0,
  "metadata": {
    "colab": {
      "name": "Assignment1.ipynb",
      "provenance": [],
      "toc_visible": true
    },
    "kernelspec": {
      "name": "python3",
      "display_name": "Python 3"
    }
  },
  "cells": [
    {
      "cell_type": "markdown",
      "metadata": {
        "id": "n8uMKZUvUJT9",
        "colab_type": "text"
      },
      "source": [
        "#**ANURAG**\n",
        "*DATA DESCRIPDESCRIPTION *\n",
        "\n",
        "---\n",
        "\n"
      ]
    },
    {
      "cell_type": "code",
      "metadata": {
        "id": "hLTKTZ1AWSlT",
        "colab_type": "code",
        "colab": {
          "base_uri": "https://localhost:8080/",
          "height": 197
        },
        "outputId": "d65d50d8-0b46-4aeb-f6eb-e09fb86c4e7d"
      },
      "source": [
        "import pandas as pd\n",
        "df=pd.read_csv('/content/brand.csv')\n",
        "df.head()"
      ],
      "execution_count": 155,
      "outputs": [
        {
          "output_type": "execute_result",
          "data": {
            "text/html": [
              "<div>\n",
              "<style scoped>\n",
              "    .dataframe tbody tr th:only-of-type {\n",
              "        vertical-align: middle;\n",
              "    }\n",
              "\n",
              "    .dataframe tbody tr th {\n",
              "        vertical-align: top;\n",
              "    }\n",
              "\n",
              "    .dataframe thead th {\n",
              "        text-align: right;\n",
              "    }\n",
              "</style>\n",
              "<table border=\"1\" class=\"dataframe\">\n",
              "  <thead>\n",
              "    <tr style=\"text-align: right;\">\n",
              "      <th></th>\n",
              "      <th>Rank</th>\n",
              "      <th>Brand</th>\n",
              "      <th>Brand_Value</th>\n",
              "      <th>Change_LastYr</th>\n",
              "      <th>Brand_Revenue</th>\n",
              "      <th>Company_Advertising</th>\n",
              "      <th>Industry</th>\n",
              "    </tr>\n",
              "  </thead>\n",
              "  <tbody>\n",
              "    <tr>\n",
              "      <th>0</th>\n",
              "      <td>1</td>\n",
              "      <td>Apple</td>\n",
              "      <td>145.3</td>\n",
              "      <td>17</td>\n",
              "      <td>182.3</td>\n",
              "      <td>1.2</td>\n",
              "      <td>Technology</td>\n",
              "    </tr>\n",
              "    <tr>\n",
              "      <th>1</th>\n",
              "      <td>2</td>\n",
              "      <td>Microsoft</td>\n",
              "      <td>69.3</td>\n",
              "      <td>10</td>\n",
              "      <td>93.3</td>\n",
              "      <td>2.3</td>\n",
              "      <td>Technology</td>\n",
              "    </tr>\n",
              "    <tr>\n",
              "      <th>2</th>\n",
              "      <td>3</td>\n",
              "      <td>Google</td>\n",
              "      <td>65.6</td>\n",
              "      <td>16</td>\n",
              "      <td>61.8</td>\n",
              "      <td>3.0</td>\n",
              "      <td>Technology</td>\n",
              "    </tr>\n",
              "    <tr>\n",
              "      <th>3</th>\n",
              "      <td>4</td>\n",
              "      <td>Coca-Cola</td>\n",
              "      <td>56.0</td>\n",
              "      <td>0</td>\n",
              "      <td>23.1</td>\n",
              "      <td>3.5</td>\n",
              "      <td>Beverages</td>\n",
              "    </tr>\n",
              "    <tr>\n",
              "      <th>4</th>\n",
              "      <td>5</td>\n",
              "      <td>IBM</td>\n",
              "      <td>49.8</td>\n",
              "      <td>4</td>\n",
              "      <td>92.8</td>\n",
              "      <td>1.3</td>\n",
              "      <td>Technology</td>\n",
              "    </tr>\n",
              "  </tbody>\n",
              "</table>\n",
              "</div>"
            ],
            "text/plain": [
              "   Rank      Brand  Brand_Value  ...  Brand_Revenue  Company_Advertising    Industry\n",
              "0     1      Apple        145.3  ...          182.3                  1.2  Technology\n",
              "1     2  Microsoft         69.3  ...           93.3                  2.3  Technology\n",
              "2     3     Google         65.6  ...           61.8                  3.0  Technology\n",
              "3     4  Coca-Cola         56.0  ...           23.1                  3.5   Beverages\n",
              "4     5        IBM         49.8  ...           92.8                  1.3  Technology\n",
              "\n",
              "[5 rows x 7 columns]"
            ]
          },
          "metadata": {
            "tags": []
          },
          "execution_count": 155
        }
      ]
    },
    {
      "cell_type": "code",
      "metadata": {
        "id": "f8QsupWwVLu8",
        "colab_type": "code",
        "colab": {
          "base_uri": "https://localhost:8080/",
          "height": 87
        },
        "outputId": "5fa00e1d-67b5-4b17-f9e3-267dbd2d17d5"
      },
      "source": [
        "print(df.shape)\n",
        "df.columns"
      ],
      "execution_count": 158,
      "outputs": [
        {
          "output_type": "stream",
          "text": [
            "(60, 7)\n"
          ],
          "name": "stdout"
        },
        {
          "output_type": "execute_result",
          "data": {
            "text/plain": [
              "Index(['Rank', 'Brand', 'Brand_Value', 'Change_LastYr', 'Brand_Revenue',\n",
              "       'Company_Advertising', 'Industry'],\n",
              "      dtype='object')"
            ]
          },
          "metadata": {
            "tags": []
          },
          "execution_count": 158
        }
      ]
    },
    {
      "cell_type": "markdown",
      "metadata": {
        "id": "bEHdCCroTxNp",
        "colab_type": "text"
      },
      "source": [
        "***PROBLEM #1*** *Which industry has the maximum brands whose Brand_Revenue > 80 Million*"
      ]
    },
    {
      "cell_type": "code",
      "metadata": {
        "id": "e_d110GkvLf6",
        "colab_type": "code",
        "colab": {
          "base_uri": "https://localhost:8080/",
          "height": 318
        },
        "outputId": "fc69d207-088c-492d-c660-a2a66d167679"
      },
      "source": [
        "df.groupby(['Industry'])['Brand'].count() #show the max no of brands industry has"
      ],
      "execution_count": 160,
      "outputs": [
        {
          "output_type": "execute_result",
          "data": {
            "text/plain": [
              "Industry\n",
              "Apparel                     2\n",
              "Automotive                  7\n",
              "Beverages                   3\n",
              "Business Services           1\n",
              "Consumer Packaged Goods     8\n",
              "Financial Services          9\n",
              "Heavy Equipment             1\n",
              "Leisure                     1\n",
              "Luxury                      4\n",
              "Media                       3\n",
              "Restaurants                 2\n",
              "Retail                      3\n",
              "Technology                 13\n",
              "Telecom                     2\n",
              "Transportation              1\n",
              "Name: Brand, dtype: int64"
            ]
          },
          "metadata": {
            "tags": []
          },
          "execution_count": 160
        }
      ]
    },
    {
      "cell_type": "code",
      "metadata": {
        "id": "fUgkq785zCCl",
        "colab_type": "code",
        "colab": {
          "base_uri": "https://localhost:8080/",
          "height": 557
        },
        "outputId": "226564d9-6691-4536-e535-0636f3e7f2a4"
      },
      "source": [
        "df[df['Brand_Revenue']>80]  #show the brands of all indusry which revenue is more then 80 million "
      ],
      "execution_count": 159,
      "outputs": [
        {
          "output_type": "execute_result",
          "data": {
            "text/html": [
              "<div>\n",
              "<style scoped>\n",
              "    .dataframe tbody tr th:only-of-type {\n",
              "        vertical-align: middle;\n",
              "    }\n",
              "\n",
              "    .dataframe tbody tr th {\n",
              "        vertical-align: top;\n",
              "    }\n",
              "\n",
              "    .dataframe thead th {\n",
              "        text-align: right;\n",
              "    }\n",
              "</style>\n",
              "<table border=\"1\" class=\"dataframe\">\n",
              "  <thead>\n",
              "    <tr style=\"text-align: right;\">\n",
              "      <th></th>\n",
              "      <th>Rank</th>\n",
              "      <th>Brand</th>\n",
              "      <th>Brand_Value</th>\n",
              "      <th>Change_LastYr</th>\n",
              "      <th>Brand_Revenue</th>\n",
              "      <th>Company_Advertising</th>\n",
              "      <th>Industry</th>\n",
              "    </tr>\n",
              "  </thead>\n",
              "  <tbody>\n",
              "    <tr>\n",
              "      <th>0</th>\n",
              "      <td>1</td>\n",
              "      <td>Apple</td>\n",
              "      <td>145.3</td>\n",
              "      <td>17</td>\n",
              "      <td>182.3</td>\n",
              "      <td>1.200</td>\n",
              "      <td>Technology</td>\n",
              "    </tr>\n",
              "    <tr>\n",
              "      <th>1</th>\n",
              "      <td>2</td>\n",
              "      <td>Microsoft</td>\n",
              "      <td>69.3</td>\n",
              "      <td>10</td>\n",
              "      <td>93.3</td>\n",
              "      <td>2.300</td>\n",
              "      <td>Technology</td>\n",
              "    </tr>\n",
              "    <tr>\n",
              "      <th>4</th>\n",
              "      <td>5</td>\n",
              "      <td>IBM</td>\n",
              "      <td>49.8</td>\n",
              "      <td>4</td>\n",
              "      <td>92.8</td>\n",
              "      <td>1.300</td>\n",
              "      <td>Technology</td>\n",
              "    </tr>\n",
              "    <tr>\n",
              "      <th>5</th>\n",
              "      <td>6</td>\n",
              "      <td>McDonalds</td>\n",
              "      <td>39.5</td>\n",
              "      <td>-1</td>\n",
              "      <td>87.8</td>\n",
              "      <td>0.808</td>\n",
              "      <td>Restaurants</td>\n",
              "    </tr>\n",
              "    <tr>\n",
              "      <th>6</th>\n",
              "      <td>7</td>\n",
              "      <td>Samsung</td>\n",
              "      <td>37.9</td>\n",
              "      <td>8</td>\n",
              "      <td>187.8</td>\n",
              "      <td>3.800</td>\n",
              "      <td>Technology</td>\n",
              "    </tr>\n",
              "    <tr>\n",
              "      <th>7</th>\n",
              "      <td>8</td>\n",
              "      <td>Toyota</td>\n",
              "      <td>37.8</td>\n",
              "      <td>21</td>\n",
              "      <td>171.1</td>\n",
              "      <td>3.800</td>\n",
              "      <td>Automotive</td>\n",
              "    </tr>\n",
              "    <tr>\n",
              "      <th>10</th>\n",
              "      <td>12</td>\n",
              "      <td>AT&amp;T</td>\n",
              "      <td>29.1</td>\n",
              "      <td>17</td>\n",
              "      <td>132.4</td>\n",
              "      <td>3.300</td>\n",
              "      <td>Telecom</td>\n",
              "    </tr>\n",
              "    <tr>\n",
              "      <th>11</th>\n",
              "      <td>13</td>\n",
              "      <td>Amazon</td>\n",
              "      <td>28.1</td>\n",
              "      <td>32</td>\n",
              "      <td>87.5</td>\n",
              "      <td>3.300</td>\n",
              "      <td>Technology</td>\n",
              "    </tr>\n",
              "    <tr>\n",
              "      <th>17</th>\n",
              "      <td>20</td>\n",
              "      <td>Wal-Mart</td>\n",
              "      <td>24.7</td>\n",
              "      <td>6</td>\n",
              "      <td>313.0</td>\n",
              "      <td>2.400</td>\n",
              "      <td>Retail</td>\n",
              "    </tr>\n",
              "    <tr>\n",
              "      <th>18</th>\n",
              "      <td>21</td>\n",
              "      <td>Verizon</td>\n",
              "      <td>24.5</td>\n",
              "      <td>14</td>\n",
              "      <td>127.1</td>\n",
              "      <td>2.500</td>\n",
              "      <td>Telecom</td>\n",
              "    </tr>\n",
              "    <tr>\n",
              "      <th>20</th>\n",
              "      <td>23</td>\n",
              "      <td>Honda</td>\n",
              "      <td>22.6</td>\n",
              "      <td>-3</td>\n",
              "      <td>101.3</td>\n",
              "      <td>2.700</td>\n",
              "      <td>Automotive</td>\n",
              "    </tr>\n",
              "    <tr>\n",
              "      <th>25</th>\n",
              "      <td>35</td>\n",
              "      <td>Hewlett-Packard</td>\n",
              "      <td>14.7</td>\n",
              "      <td>3</td>\n",
              "      <td>111.5</td>\n",
              "      <td>0.784</td>\n",
              "      <td>Technology</td>\n",
              "    </tr>\n",
              "    <tr>\n",
              "      <th>26</th>\n",
              "      <td>37</td>\n",
              "      <td>Home Depot</td>\n",
              "      <td>13.0</td>\n",
              "      <td>10</td>\n",
              "      <td>83.2</td>\n",
              "      <td>2.300</td>\n",
              "      <td>Retail</td>\n",
              "    </tr>\n",
              "    <tr>\n",
              "      <th>28</th>\n",
              "      <td>41</td>\n",
              "      <td>Ford</td>\n",
              "      <td>12.5</td>\n",
              "      <td>13</td>\n",
              "      <td>139.3</td>\n",
              "      <td>4.300</td>\n",
              "      <td>Automotive</td>\n",
              "    </tr>\n",
              "    <tr>\n",
              "      <th>30</th>\n",
              "      <td>47</td>\n",
              "      <td>Wells Fargo</td>\n",
              "      <td>11.4</td>\n",
              "      <td>13</td>\n",
              "      <td>88.4</td>\n",
              "      <td>0.653</td>\n",
              "      <td>Financial Services</td>\n",
              "    </tr>\n",
              "    <tr>\n",
              "      <th>49</th>\n",
              "      <td>75</td>\n",
              "      <td>Nissan</td>\n",
              "      <td>7.3</td>\n",
              "      <td>-10</td>\n",
              "      <td>96.6</td>\n",
              "      <td>2.600</td>\n",
              "      <td>Automotive</td>\n",
              "    </tr>\n",
              "    <tr>\n",
              "      <th>52</th>\n",
              "      <td>81</td>\n",
              "      <td>Citi</td>\n",
              "      <td>6.9</td>\n",
              "      <td>16</td>\n",
              "      <td>90.6</td>\n",
              "      <td>1.800</td>\n",
              "      <td>Financial Services</td>\n",
              "    </tr>\n",
              "  </tbody>\n",
              "</table>\n",
              "</div>"
            ],
            "text/plain": [
              "    Rank            Brand  ...  Company_Advertising            Industry\n",
              "0      1            Apple  ...                1.200          Technology\n",
              "1      2        Microsoft  ...                2.300          Technology\n",
              "4      5              IBM  ...                1.300          Technology\n",
              "5      6        McDonalds  ...                0.808         Restaurants\n",
              "6      7          Samsung  ...                3.800          Technology\n",
              "7      8           Toyota  ...                3.800          Automotive\n",
              "10    12             AT&T  ...                3.300             Telecom\n",
              "11    13           Amazon  ...                3.300          Technology\n",
              "17    20         Wal-Mart  ...                2.400              Retail\n",
              "18    21          Verizon  ...                2.500             Telecom\n",
              "20    23            Honda  ...                2.700          Automotive\n",
              "25    35  Hewlett-Packard  ...                0.784          Technology\n",
              "26    37       Home Depot  ...                2.300              Retail\n",
              "28    41             Ford  ...                4.300          Automotive\n",
              "30    47      Wells Fargo  ...                0.653  Financial Services\n",
              "49    75           Nissan  ...                2.600          Automotive\n",
              "52    81             Citi  ...                1.800  Financial Services\n",
              "\n",
              "[17 rows x 7 columns]"
            ]
          },
          "metadata": {
            "tags": []
          },
          "execution_count": 159
        }
      ]
    },
    {
      "cell_type": "code",
      "metadata": {
        "id": "KCyKPMj5yLWZ",
        "colab_type": "code",
        "colab": {
          "base_uri": "https://localhost:8080/",
          "height": 158
        },
        "outputId": "8be01c90-e90e-4253-c251-7f81ea8bbfe2"
      },
      "source": [
        "df[df['Brand_Revenue']>80].groupby(['Industry'])['Brand'].count() #industry which has maxiumum brands and revenue>80"
      ],
      "execution_count": 44,
      "outputs": [
        {
          "output_type": "execute_result",
          "data": {
            "text/plain": [
              "Industry\n",
              "  Automotive            4\n",
              "  Financial Services    2\n",
              "  Restaurants           1\n",
              "  Retail                2\n",
              "  Technology            6\n",
              "  Telecom               2\n",
              "Name: Brand, dtype: int64"
            ]
          },
          "metadata": {
            "tags": []
          },
          "execution_count": 44
        }
      ]
    },
    {
      "cell_type": "markdown",
      "metadata": {
        "id": "GMAnAGs6V9Q3",
        "colab_type": "text"
      },
      "source": [
        "**So all of the industries ,technology industry has maximum brands**\n",
        "6"
      ]
    },
    {
      "cell_type": "markdown",
      "metadata": {
        "id": "mi6aKayx5e6f",
        "colab_type": "text"
      },
      "source": [
        "***PROBLEM #2*** *List the companiesd whose Company_Advertising budget is < 3 but Brand_Value is > 20*\n",
        "\n"
      ]
    },
    {
      "cell_type": "code",
      "metadata": {
        "id": "caC5g9i5ynko",
        "colab_type": "code",
        "colab": {
          "base_uri": "https://localhost:8080/",
          "height": 407
        },
        "outputId": "9b4e53db-6875-4270-9c92-679f109401dc"
      },
      "source": [
        "df[(df['Company_Advertising']<3) & (df['Brand_Value']>20)][['Brand','Brand_Value','Company_Advertising']]  # companiesd whose Company_Advertising budget is < 3 but Brand_Value is >20"
      ],
      "execution_count": 163,
      "outputs": [
        {
          "output_type": "execute_result",
          "data": {
            "text/html": [
              "<div>\n",
              "<style scoped>\n",
              "    .dataframe tbody tr th:only-of-type {\n",
              "        vertical-align: middle;\n",
              "    }\n",
              "\n",
              "    .dataframe tbody tr th {\n",
              "        vertical-align: top;\n",
              "    }\n",
              "\n",
              "    .dataframe thead th {\n",
              "        text-align: right;\n",
              "    }\n",
              "</style>\n",
              "<table border=\"1\" class=\"dataframe\">\n",
              "  <thead>\n",
              "    <tr style=\"text-align: right;\">\n",
              "      <th></th>\n",
              "      <th>Brand</th>\n",
              "      <th>Brand_Value</th>\n",
              "      <th>Company_Advertising</th>\n",
              "    </tr>\n",
              "  </thead>\n",
              "  <tbody>\n",
              "    <tr>\n",
              "      <th>0</th>\n",
              "      <td>Apple</td>\n",
              "      <td>145.3</td>\n",
              "      <td>1.200</td>\n",
              "    </tr>\n",
              "    <tr>\n",
              "      <th>1</th>\n",
              "      <td>Microsoft</td>\n",
              "      <td>69.3</td>\n",
              "      <td>2.300</td>\n",
              "    </tr>\n",
              "    <tr>\n",
              "      <th>4</th>\n",
              "      <td>IBM</td>\n",
              "      <td>49.8</td>\n",
              "      <td>1.300</td>\n",
              "    </tr>\n",
              "    <tr>\n",
              "      <th>5</th>\n",
              "      <td>McDonalds</td>\n",
              "      <td>39.5</td>\n",
              "      <td>0.808</td>\n",
              "    </tr>\n",
              "    <tr>\n",
              "      <th>8</th>\n",
              "      <td>Facebook</td>\n",
              "      <td>36.5</td>\n",
              "      <td>0.135</td>\n",
              "    </tr>\n",
              "    <tr>\n",
              "      <th>9</th>\n",
              "      <td>Disney</td>\n",
              "      <td>34.6</td>\n",
              "      <td>2.800</td>\n",
              "    </tr>\n",
              "    <tr>\n",
              "      <th>13</th>\n",
              "      <td>Cisco</td>\n",
              "      <td>27.6</td>\n",
              "      <td>0.196</td>\n",
              "    </tr>\n",
              "    <tr>\n",
              "      <th>14</th>\n",
              "      <td>Oracle</td>\n",
              "      <td>26.8</td>\n",
              "      <td>0.079</td>\n",
              "    </tr>\n",
              "    <tr>\n",
              "      <th>16</th>\n",
              "      <td>Intel</td>\n",
              "      <td>25.8</td>\n",
              "      <td>1.800</td>\n",
              "    </tr>\n",
              "    <tr>\n",
              "      <th>17</th>\n",
              "      <td>Wal-Mart</td>\n",
              "      <td>24.7</td>\n",
              "      <td>2.400</td>\n",
              "    </tr>\n",
              "    <tr>\n",
              "      <th>18</th>\n",
              "      <td>Verizon</td>\n",
              "      <td>24.5</td>\n",
              "      <td>2.500</td>\n",
              "    </tr>\n",
              "    <tr>\n",
              "      <th>20</th>\n",
              "      <td>Honda</td>\n",
              "      <td>22.6</td>\n",
              "      <td>2.700</td>\n",
              "    </tr>\n",
              "  </tbody>\n",
              "</table>\n",
              "</div>"
            ],
            "text/plain": [
              "        Brand  Brand_Value  Company_Advertising\n",
              "0       Apple        145.3                1.200\n",
              "1   Microsoft         69.3                2.300\n",
              "4         IBM         49.8                1.300\n",
              "5   McDonalds         39.5                0.808\n",
              "8    Facebook         36.5                0.135\n",
              "9      Disney         34.6                2.800\n",
              "13      Cisco         27.6                0.196\n",
              "14     Oracle         26.8                0.079\n",
              "16      Intel         25.8                1.800\n",
              "17   Wal-Mart         24.7                2.400\n",
              "18    Verizon         24.5                2.500\n",
              "20      Honda         22.6                2.700"
            ]
          },
          "metadata": {
            "tags": []
          },
          "execution_count": 163
        }
      ]
    },
    {
      "cell_type": "markdown",
      "metadata": {
        "id": "dvDHvZwqOUud",
        "colab_type": "text"
      },
      "source": [
        "***PROBLEM #3***  *Find out the top 5 Technology Brand that showed maximum positive jump in their position (Use Change_LastYr)*\n",
        "\n"
      ]
    },
    {
      "cell_type": "code",
      "metadata": {
        "id": "-oF-m54zDpIJ",
        "colab_type": "code",
        "colab": {
          "base_uri": "https://localhost:8080/",
          "height": 197
        },
        "outputId": "5c3c9b3f-7c7e-4159-ba42-cb0276cf64b1"
      },
      "source": [
        "tech_brand = df[(df['Industry']==\"Technology\")][['Brand','Industry','Change_LastYr']].sort_values('Change_LastYr') #all Technology Brand that showed maximum positive or negetive jump in their position \n",
        "#tech_brand\n",
        "tech_brand.nlargest(5,['Change_LastYr']) #it shows only top 5"
      ],
      "execution_count": 166,
      "outputs": [
        {
          "output_type": "execute_result",
          "data": {
            "text/html": [
              "<div>\n",
              "<style scoped>\n",
              "    .dataframe tbody tr th:only-of-type {\n",
              "        vertical-align: middle;\n",
              "    }\n",
              "\n",
              "    .dataframe tbody tr th {\n",
              "        vertical-align: top;\n",
              "    }\n",
              "\n",
              "    .dataframe thead th {\n",
              "        text-align: right;\n",
              "    }\n",
              "</style>\n",
              "<table border=\"1\" class=\"dataframe\">\n",
              "  <thead>\n",
              "    <tr style=\"text-align: right;\">\n",
              "      <th></th>\n",
              "      <th>Brand</th>\n",
              "      <th>Industry</th>\n",
              "      <th>Change_LastYr</th>\n",
              "    </tr>\n",
              "  </thead>\n",
              "  <tbody>\n",
              "    <tr>\n",
              "      <th>8</th>\n",
              "      <td>Facebook</td>\n",
              "      <td>Technology</td>\n",
              "      <td>54</td>\n",
              "    </tr>\n",
              "    <tr>\n",
              "      <th>11</th>\n",
              "      <td>Amazon</td>\n",
              "      <td>Technology</td>\n",
              "      <td>32</td>\n",
              "    </tr>\n",
              "    <tr>\n",
              "      <th>33</th>\n",
              "      <td>Ebay</td>\n",
              "      <td>Technology</td>\n",
              "      <td>21</td>\n",
              "    </tr>\n",
              "    <tr>\n",
              "      <th>50</th>\n",
              "      <td>Sony</td>\n",
              "      <td>Technology</td>\n",
              "      <td>21</td>\n",
              "    </tr>\n",
              "    <tr>\n",
              "      <th>0</th>\n",
              "      <td>Apple</td>\n",
              "      <td>Technology</td>\n",
              "      <td>17</td>\n",
              "    </tr>\n",
              "  </tbody>\n",
              "</table>\n",
              "</div>"
            ],
            "text/plain": [
              "       Brand    Industry  Change_LastYr\n",
              "8   Facebook  Technology             54\n",
              "11    Amazon  Technology             32\n",
              "33      Ebay  Technology             21\n",
              "50      Sony  Technology             21\n",
              "0      Apple  Technology             17"
            ]
          },
          "metadata": {
            "tags": []
          },
          "execution_count": 166
        }
      ]
    },
    {
      "cell_type": "markdown",
      "metadata": {
        "id": "J4B2SEbuOZPF",
        "colab_type": "text"
      },
      "source": [
        "***PROBLEM #4*** *Find out the Average Brand_Revenue by Industry*"
      ]
    },
    {
      "cell_type": "code",
      "metadata": {
        "id": "Fpu_nyVpN7EI",
        "colab_type": "code",
        "colab": {
          "base_uri": "https://localhost:8080/",
          "height": 336
        },
        "outputId": "f4d12191-0479-4524-bc4e-b97c8bc5045c"
      },
      "source": [
        "rev=df.groupby(['Industry'])['Brand_Revenue'].mean()  # Average Brand_Revenue by Industry\n",
        "print(' Average Brand_Revenue by Industry : ''\\n ', rev)"
      ],
      "execution_count": 167,
      "outputs": [
        {
          "output_type": "stream",
          "text": [
            " Average Brand_Revenue by Industry : \n",
            "  Industry\n",
            "Apparel                     17.700000\n",
            "Automotive                  97.385714\n",
            "Beverages                   13.133333\n",
            "Business Services           32.800000\n",
            "Consumer Packaged Goods      7.175000\n",
            "Financial Services          51.622222\n",
            "Heavy Equipment             36.100000\n",
            "Leisure                     26.400000\n",
            "Luxury                       5.900000\n",
            "Media                        9.200000\n",
            "Restaurants                 51.900000\n",
            "Retail                     156.266667\n",
            "Technology                  80.238462\n",
            "Telecom                    129.750000\n",
            "Transportation              47.200000\n",
            "Name: Brand_Revenue, dtype: float64\n"
          ],
          "name": "stdout"
        }
      ]
    }
  ]
}